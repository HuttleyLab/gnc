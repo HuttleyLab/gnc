{
 "cells": [
  {
   "cell_type": "code",
   "execution_count": 1,
   "metadata": {
    "collapsed": true
   },
   "outputs": [],
   "source": [
    "from pymongo import MongoClient\n",
    "from ast import literal_eval\n",
    "\n",
    "import lib\n",
    "import ml\n",
    "import nest"
   ]
  },
  {
   "cell_type": "code",
   "execution_count": 2,
   "metadata": {
    "collapsed": true
   },
   "outputs": [],
   "source": [
    "client = MongoClient()"
   ]
  },
  {
   "cell_type": "code",
   "execution_count": 20,
   "metadata": {
    "collapsed": false
   },
   "outputs": [],
   "source": [
    "jsds = []\n",
    "for doc in client.mammals.GNC.find():\n",
    "    jsd = doc['lf']['js']\n",
    "    jsd = {frozenset(literal_eval(k)) : v for k, v in jsd.items()}\n",
    "    jsds.append((jsd[frozenset(('Mouse','Opossum'))], doc['_id']))\n",
    "jsds.sort()\n",
    "picked = [_id for jsd, _id in jsds[-12:]]"
   ]
  },
  {
   "cell_type": "code",
   "execution_count": 21,
   "metadata": {
    "collapsed": false
   },
   "outputs": [],
   "source": [
    "for doc in client.mammals.data.find({'_id' : {'$in' : picked}}):\n",
    "    if not client.mammals.GNC_picked2.find_one({'_id' : doc['_id']}) is None:\n",
    "        continue\n",
    "    doc['tree'] = '(Opossum,(Human,Mouse)internal);'\n",
    "    fit = ml.rooted(doc, rooted_edges=['Opossum', 'internal'])\n",
    "    fit['_id'] = doc['_id']\n",
    "    client.mammals.GNC_picked2.insert_one(fit)"
   ]
  },
  {
   "cell_type": "code",
   "execution_count": 22,
   "metadata": {
    "collapsed": false
   },
   "outputs": [
    {
     "name": "stdout",
     "output_type": "stream",
     "text": [
      "ENSG00000005436_mammals\n",
      "Opossum 1.52095380093 0.252086653239\n",
      "Mouse 0.26146738845 0.380752632285\n",
      "internal 0.122091809928 0.252086653239\n",
      "Human 0.425191586694 0.365825653866\n",
      "ENSG00000024526_mammals\n",
      "Opossum 1.1563489829 0.0684463650094\n",
      "Mouse 0.291002650015 0.298109619323\n",
      "internal 7.50531666403e-12 0.0684463650094\n",
      "Human 0.160393729675 0.0836552199917\n",
      "ENSG00000162614_mammals\n",
      "Opossum 1.02128936217 0.0993745385695\n",
      "Mouse 0.23698634589 0.124446852966\n",
      "internal 0.0412057813838 0.0993745385695\n",
      "Human 0.211544309934 0.105519831644\n",
      "ENSG00000172061_mammals\n",
      "Opossum 0.89314024179 0.0856814252173\n",
      "Mouse 0.428224923478 0.226509626042\n",
      "internal 0.19249848222 0.0856814252173\n",
      "Human 0.240849831515 0.217229370468\n",
      "ENSG00000185722_mammals\n",
      "Opossum 0.804158552007 0.0414702448545\n",
      "Mouse 0.219210066719 0.063935770728\n",
      "internal 0.0851964866058 0.0414702448545\n",
      "Human 0.235619842033 0.0467108431148\n",
      "ENSG00000106443_mammals\n",
      "Opossum 1.04811893108 0.0862590125799\n",
      "Mouse 0.147367139847 0.0380240071029\n",
      "internal 0.0291884947463 0.0862590125799\n",
      "Human 0.169339489631 0.0116437254222\n",
      "ENSG00000100014_mammals\n",
      "Opossum 1.22304019967 0.0872058446391\n",
      "Mouse 0.283219857581 0.0241728631315\n",
      "internal 0.165854538314 0.0872058446391\n",
      "Human 0.182265727258 0.0864431656447\n",
      "ENSG00000139517_mammals\n",
      "Opossum 0.328771560786 0.0811078479237\n",
      "Mouse 0.583705463436 0.04615434018\n",
      "internal 0.132885669691 0.0811078479237\n",
      "Human 0.226698234412 0.13212645183\n",
      "ENSG00000176371_mammals\n",
      "Opossum 0.517773864044 0.0834951960466\n",
      "Mouse 0.414952239538 0.0593340444972\n",
      "internal 0.133134335441 0.0834951960466\n",
      "Human 0.137748125673 0.0879507857911\n",
      "ENSG00000180488_mammals\n",
      "Opossum 0.861128056464 0.0805750169407\n",
      "Mouse 0.371134794816 0.187541778611\n",
      "internal 0.107812808521 0.0805750169407\n",
      "Human 0.259931144085 0.118014660956\n",
      "ENSG00000239305_mammals\n",
      "Opossum 0.939243972419 0.0487885324315\n",
      "Mouse 0.178065370351 0.0455355954589\n",
      "internal 8.68064726812e-12 0.0487885324315\n",
      "Human 0.0692320734522 0.115864853045\n",
      "ENSG00000125207_mammals\n",
      "Opossum 0.297292808313 0.0600514155481\n",
      "Mouse 0.593127462247 0.0100358024073\n",
      "internal 0.0741615960027 0.0600514155481\n",
      "Human 0.252028282 0.0662435080355\n",
      "got 10 ok fits\n"
     ]
    }
   ],
   "source": [
    "num_fits = 0\n",
    "for fit in client.mammals.GNC_picked2.find():\n",
    "    print fit['_id']\n",
    "    for name, ens in fit['lf']['EN'].items():\n",
    "        print name, ens, fit['lf']['params']['omega'][name]['bin0']\n",
    "    if fit['lf']['EN']['internal'] >= 1e-9 and fit['lf']['EN']['Opossum'] >= 1e-9:\n",
    "        num_fits += 1\n",
    "print 'got', num_fits, 'ok fits'"
   ]
  },
  {
   "cell_type": "code",
   "execution_count": 23,
   "metadata": {
    "collapsed": false
   },
   "outputs": [],
   "source": [
    "num_sims = 100\n",
    "for fit in client.mammals.GNC_picked2.find():\n",
    "    if fit['lf']['EN']['internal'] < 1e-9 or fit['lf']['EN']['Opossum'] < 1e-9:\n",
    "        continue\n",
    "    if not client.mammals.data_picked2.find_one({'_id' : { '$regex' : '^'+fit['_id'] }}) is None:\n",
    "        continue\n",
    "    lf = nest.inflate_likelihood_function(fit['lf'], model=ml.GNC)\n",
    "    for i in range(num_sims):\n",
    "        aln = lf.simulateAlignment(fit['lf']['aln_length'])\n",
    "        _id = '%s_%02d' % (fit['_id'], i)\n",
    "        aln = {'_id' : _id, 'aln' : str(aln), 'tree' : '(Opossum, Human, Mouse);'}\n",
    "        client.mammals.data_picked2.insert_one(aln)"
   ]
  },
  {
   "cell_type": "code",
   "execution_count": 24,
   "metadata": {
    "collapsed": false
   },
   "outputs": [
    {
     "data": {
      "text/plain": [
       "1000"
      ]
     },
     "execution_count": 24,
     "metadata": {},
     "output_type": "execute_result"
    }
   ],
   "source": [
    "client.mammals.data_picked2.count()"
   ]
  },
  {
   "cell_type": "code",
   "execution_count": 25,
   "metadata": {
    "collapsed": true
   },
   "outputs": [],
   "source": [
    "remote_client = MongoClient('mongodb://localhost:27018')"
   ]
  },
  {
   "cell_type": "code",
   "execution_count": 27,
   "metadata": {
    "collapsed": true
   },
   "outputs": [],
   "source": [
    "def copy_collection(to_client, from_client, col_name):\n",
    "    from_col = getattr(from_client.mammals, col_name)\n",
    "    to_col = getattr(to_client.mammals, col_name)\n",
    "    to_col.drop()\n",
    "    for doc in from_col.find():\n",
    "        to_col.insert_one(doc)"
   ]
  },
  {
   "cell_type": "code",
   "execution_count": 28,
   "metadata": {
    "collapsed": false
   },
   "outputs": [],
   "source": [
    "collections_to_copy = ['GNC_picked2', 'data_picked2']\n",
    "for col_name in collections_to_copy:\n",
    "    copy_collection(remote_client, client, col_name)"
   ]
  },
  {
   "cell_type": "code",
   "execution_count": 29,
   "metadata": {
    "collapsed": true
   },
   "outputs": [],
   "source": [
    "collections_to_copy = ['GNC_picked_sims2', 'Y98_picked_sims2', 'CNFGTR_picked_sims2']\n",
    "collections_to_copy += [c+'.log' for c in collections_to_copy]\n",
    "for col_name in collections_to_copy:\n",
    "    copy_collection(client, remote_client, col_name)"
   ]
  },
  {
   "cell_type": "code",
   "execution_count": 30,
   "metadata": {
    "collapsed": false
   },
   "outputs": [
    {
     "data": {
      "text/plain": [
       "1000"
      ]
     },
     "execution_count": 30,
     "metadata": {},
     "output_type": "execute_result"
    }
   ],
   "source": [
    "client.mammals.GNC_picked_sims2.count()"
   ]
  },
  {
   "cell_type": "code",
   "execution_count": null,
   "metadata": {
    "collapsed": true
   },
   "outputs": [],
   "source": []
  }
 ],
 "metadata": {
  "kernelspec": {
   "display_name": "Python 2",
   "language": "python",
   "name": "python2"
  },
  "language_info": {
   "codemirror_mode": {
    "name": "ipython",
    "version": 2
   },
   "file_extension": ".py",
   "mimetype": "text/x-python",
   "name": "python",
   "nbconvert_exporter": "python",
   "pygments_lexer": "ipython2",
   "version": "2.7.11"
  }
 },
 "nbformat": 4,
 "nbformat_minor": 0
}
