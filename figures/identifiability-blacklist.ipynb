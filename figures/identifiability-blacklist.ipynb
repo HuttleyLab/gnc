{
 "cells": [
  {
   "cell_type": "code",
   "execution_count": 7,
   "metadata": {
    "collapsed": true
   },
   "outputs": [],
   "source": [
    "import json\n",
    "from pymongo import MongoClient"
   ]
  },
  {
   "cell_type": "code",
   "execution_count": 6,
   "metadata": {
    "collapsed": false
   },
   "outputs": [
    {
     "name": "stdout",
     "output_type": "stream",
     "text": [
      "Lost to DLC\n",
      "introns 0\n",
      "mammals 17\n",
      "hum_xen_fug 879\n",
      "ants 1\n",
      "Lost to non-unique\n",
      "introns 2139\n",
      "mammals 94\n",
      "hum_xen_fug 20\n",
      "ants 10\n"
     ]
    }
   ],
   "source": [
    "with open('uniqueness-failures.json') as uin:\n",
    "    not_unique = json.load(uin)\n",
    "with open('dlc-failures.json') as din:\n",
    "    not_dlc = json.load(din)\n",
    "blacklist = set()\n",
    "for dataset in not_dlc:\n",
    "    blacklist.update(not_dlc[dataset])\n",
    "print 'Lost to DLC'\n",
    "ltdlc = {ds: len([r for r in blacklist if ds in r]) for ds in not_dlc}\n",
    "for dataset, length in ltdlc.items():\n",
    "    print dataset, length\n",
    "for dataset in not_unique:\n",
    "    blacklist.update([r[0] for r in not_unique[dataset]])\n",
    "print 'Lost to non-unique'\n",
    "for dataset in not_unique:\n",
    "    print dataset, len([r for r in blacklist if dataset in r]) - ltdlc[dataset]\n",
    "blacklist = list(blacklist)\n",
    "with open('blacklist.json', 'w') as bout:\n",
    "    json.dump(blacklist, bout)"
   ]
  },
  {
   "cell_type": "code",
   "execution_count": 12,
   "metadata": {
    "collapsed": false
   },
   "outputs": [
    {
     "name": "stdout",
     "output_type": "stream",
     "text": [
      "ENSG00000005436,\n",
      "ENSG00000024526,\n",
      "ENSG00000106443,\n",
      "ENSG00000125207,\n",
      "ENSG00000139517,\n",
      "ENSG00000162614,\n",
      "ENSG00000176371,\n",
      "ENSG00000180488,\n",
      "ENSG00000239305,\n"
     ]
    }
   ],
   "source": [
    "client = MongoClient()\n",
    "sims = [d['_id'] for d in client.mammals.GNC_picked2.find({'_id': {'$nin': blacklist}})]\n",
    "for survivor in sims:\n",
    "    print survivor.split('_')[0] + ','"
   ]
  },
  {
   "cell_type": "code",
   "execution_count": null,
   "metadata": {
    "collapsed": true
   },
   "outputs": [],
   "source": []
  }
 ],
 "metadata": {
  "kernelspec": {
   "display_name": "Python 2",
   "language": "python",
   "name": "python2"
  },
  "language_info": {
   "codemirror_mode": {
    "name": "ipython",
    "version": 2
   },
   "file_extension": ".py",
   "mimetype": "text/x-python",
   "name": "python",
   "nbconvert_exporter": "python",
   "pygments_lexer": "ipython2",
   "version": "2.7.11"
  }
 },
 "nbformat": 4,
 "nbformat_minor": 1
}
