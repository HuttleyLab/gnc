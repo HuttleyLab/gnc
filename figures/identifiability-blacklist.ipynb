{
 "cells": [
  {
   "cell_type": "code",
   "execution_count": 1,
   "metadata": {
    "collapsed": true
   },
   "outputs": [],
   "source": [
    "import json"
   ]
  },
  {
   "cell_type": "code",
   "execution_count": 2,
   "metadata": {
    "collapsed": false
   },
   "outputs": [],
   "source": [
    "with open('uniqueness-failures.json') as uin:\n",
    "    not_unique = json.load(uin)\n",
    "with open('dlc-failures.json') as din:\n",
    "    not_dlc = json.load(din)\n",
    "blacklist = set()\n",
    "for dataset in not_unique:\n",
    "    blacklist.update([r[0] for r in not_unique[dataset]])\n",
    "for dataset in not_dlc:\n",
    "    blacklist.update(not_dlc[dataset])\n",
    "blacklist = list(blacklist)\n",
    "with open('blacklist.json', 'w') as bout:\n",
    "    json.dump(blacklist, bout)"
   ]
  },
  {
   "cell_type": "code",
   "execution_count": 3,
   "metadata": {
    "collapsed": false
   },
   "outputs": [
    {
     "name": "stdout",
     "output_type": "stream",
     "text": [
      "introns 2139\n",
      "mammals 111\n",
      "hum_xen_fug 899\n",
      "ants 11\n"
     ]
    }
   ],
   "source": [
    "for dataset in not_unique:\n",
    "    print dataset, len([r for r in blacklist if dataset in r])"
   ]
  },
  {
   "cell_type": "code",
   "execution_count": null,
   "metadata": {
    "collapsed": true
   },
   "outputs": [],
   "source": []
  }
 ],
 "metadata": {
  "kernelspec": {
   "display_name": "Python 2",
   "language": "python",
   "name": "python2"
  },
  "language_info": {
   "codemirror_mode": {
    "name": "ipython",
    "version": 2
   },
   "file_extension": ".py",
   "mimetype": "text/x-python",
   "name": "python",
   "nbconvert_exporter": "python",
   "pygments_lexer": "ipython2",
   "version": "2.7.11"
  }
 },
 "nbformat": 4,
 "nbformat_minor": 1
}
