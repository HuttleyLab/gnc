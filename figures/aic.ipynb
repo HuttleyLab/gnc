{
 "cells": [
  {
   "cell_type": "markdown",
   "metadata": {},
   "source": [
    "# Generate Comparative AIC Table\n",
    "### Setup "
   ]
  },
  {
   "cell_type": "code",
   "execution_count": 1,
   "metadata": {
    "collapsed": false
   },
   "outputs": [],
   "source": [
    "from collections import defaultdict, Counter\n",
    "from json import dumps\n",
    "\n",
    "from pymongo import MongoClient\n",
    "from pandas import DataFrame\n",
    "from IPython.display import Markdown, display"
   ]
  },
  {
   "cell_type": "markdown",
   "metadata": {},
   "source": [
    "### Utility"
   ]
  },
  {
   "cell_type": "code",
   "execution_count": 2,
   "metadata": {
    "collapsed": false
   },
   "outputs": [],
   "source": [
    "def get_aic(col):\n",
    "    df = col.find_one()['lf']['df']\n",
    "    return {d['_id']:2*df - 2*d['lf']['ll'] for d in col.find()}\n",
    "\n",
    "def print_logs(log,  level='INFO'):\n",
    "    printmd('##### ' + log.name)\n",
    "    for d in log.find({'level':level}):\n",
    "        printmd(dumps(d['message']))\n",
    "        \n",
    "def printmd(string):\n",
    "    ''' thanks http://stackoverflow.com/questions/32026727/format-output-of-code-cell-with-markdown '''\n",
    "    display(Markdown(string))"
   ]
  },
  {
   "cell_type": "markdown",
   "metadata": {},
   "source": [
    "### Load the Data"
   ]
  },
  {
   "cell_type": "code",
   "execution_count": 3,
   "metadata": {
    "collapsed": true
   },
   "outputs": [],
   "source": [
    "client = MongoClient()"
   ]
  },
  {
   "cell_type": "code",
   "execution_count": 4,
   "metadata": {
    "collapsed": false
   },
   "outputs": [
    {
     "data": {
      "text/markdown": [
       "#### Mammals"
      ],
      "text/plain": [
       "<IPython.core.display.Markdown object>"
      ]
     },
     "metadata": {},
     "output_type": "display_data"
    },
    {
     "data": {
      "text/markdown": [
       "##### data.log"
      ],
      "text/plain": [
       "<IPython.core.display.Markdown object>"
      ]
     },
     "metadata": {},
     "output_type": "display_data"
    },
    {
     "data": {
      "text/markdown": [
       "{\"input_directory\": \"/short/xe9/bdk248/data/mammals\", \"log_level\": \"DEBUG\", \"output_collection\": \"mammals.data\", \"tree_file\": \"../config/mammals.nwk\", \"db_host\": \"r2452\", \"aln_length\": 1500, \"log_name\": \"log\", \"codon_position\": -1}"
      ],
      "text/plain": [
       "<IPython.core.display.Markdown object>"
      ]
     },
     "metadata": {},
     "output_type": "display_data"
    },
    {
     "data": {
      "text/markdown": [
       "{\"mong\": \"0.0.7-dev\", \"cogent\": \"1.5.3-dev\", \"masterslave\": \"0.0.10-dev\", \"consume\": \"0.0.3-dev\", \"monglog\": \"0.0.1-dev\"}"
      ],
      "text/plain": [
       "<IPython.core.display.Markdown object>"
      ]
     },
     "metadata": {},
     "output_type": "display_data"
    },
    {
     "data": {
      "text/markdown": [
       "##### GNC.log"
      ],
      "text/plain": [
       "<IPython.core.display.Markdown object>"
      ]
     },
     "metadata": {},
     "output_type": "display_data"
    },
    {
     "data": {
      "text/markdown": [
       "{\"function\": \"ml.ml\", \"start_over\": true, \"log_level\": \"DEBUG\", \"no_mpi_main_loop\": false, \"kwargs_file\": \"../config/GNC.json\", \"input_collection\": \"mammals.data\", \"output_collection\": \"mammals.GNC\", \"output_collections_file\": null, \"output_collections\": [\"mammals.GNC\"], \"db_host\": \"r2390\", \"input_collections_file\": null, \"kwargs\": {\"model\": \"GNC\"}, \"log_name\": \"log\", \"input_collections\": [\"mammals.data\"]}"
      ],
      "text/plain": [
       "<IPython.core.display.Markdown object>"
      ]
     },
     "metadata": {},
     "output_type": "display_data"
    },
    {
     "data": {
      "text/markdown": [
       "{\"mong\": \"0.0.10-dev\", \"monglog\": \"0.0.1-dev\", \"map_collection\": \"0.0.8-dev\", \"masterslave\": \"0.0.10-dev\", \"ml\": \"0.0.10-dev\"}"
      ],
      "text/plain": [
       "<IPython.core.display.Markdown object>"
      ]
     },
     "metadata": {},
     "output_type": "display_data"
    },
    {
     "data": {
      "text/markdown": [
       "##### Y98.log"
      ],
      "text/plain": [
       "<IPython.core.display.Markdown object>"
      ]
     },
     "metadata": {},
     "output_type": "display_data"
    },
    {
     "data": {
      "text/markdown": [
       "{\"function\": \"ml.ml\", \"start_over\": true, \"log_level\": \"DEBUG\", \"no_mpi_main_loop\": false, \"kwargs_file\": \"../config/Y98.json\", \"input_collection\": \"mammals.data\", \"output_collection\": \"mammals.Y98\", \"output_collections_file\": null, \"output_collections\": [\"mammals.Y98\"], \"db_host\": \"r95\", \"input_collections_file\": null, \"kwargs\": {\"model\": \"Y98\"}, \"log_name\": \"log\", \"input_collections\": [\"mammals.data\"]}"
      ],
      "text/plain": [
       "<IPython.core.display.Markdown object>"
      ]
     },
     "metadata": {},
     "output_type": "display_data"
    },
    {
     "data": {
      "text/markdown": [
       "{\"mong\": \"0.0.10-dev\", \"monglog\": \"0.0.1-dev\", \"map_collection\": \"0.0.8-dev\", \"masterslave\": \"0.0.10-dev\", \"ml\": \"0.0.11-dev\"}"
      ],
      "text/plain": [
       "<IPython.core.display.Markdown object>"
      ]
     },
     "metadata": {},
     "output_type": "display_data"
    },
    {
     "data": {
      "text/markdown": [
       "##### CNFGTR.log"
      ],
      "text/plain": [
       "<IPython.core.display.Markdown object>"
      ]
     },
     "metadata": {},
     "output_type": "display_data"
    },
    {
     "data": {
      "text/markdown": [
       "{\"function\": \"ml.ml\", \"start_over\": false, \"log_level\": \"DEBUG\", \"no_mpi_main_loop\": false, \"kwargs_file\": \"../config/CNFGTR.json\", \"input_collection\": \"mammals.data\", \"output_collection\": \"mammals.CNFGTR\", \"output_collections_file\": null, \"batch_size\": 1, \"output_collections\": [\"mammals.CNFGTR\"], \"db_host\": \"r2452\", \"input_collections_file\": null, \"kwargs\": {\"model\": \"CNFGTR\"}, \"log_name\": \"log\", \"input_collections\": [\"mammals.data\"]}"
      ],
      "text/plain": [
       "<IPython.core.display.Markdown object>"
      ]
     },
     "metadata": {},
     "output_type": "display_data"
    },
    {
     "data": {
      "text/markdown": [
       "{\"mong\": \"0.0.7-dev\", \"monglog\": \"0.0.1-dev\", \"map_collection\": \"0.0.6-dev\", \"masterslave\": \"0.0.10-dev\", \"ml\": \"0.0.1-dev\"}"
      ],
      "text/plain": [
       "<IPython.core.display.Markdown object>"
      ]
     },
     "metadata": {},
     "output_type": "display_data"
    },
    {
     "data": {
      "text/markdown": [
       "{\"function\": \"ml.ml\", \"start_over\": true, \"log_level\": \"DEBUG\", \"no_mpi_main_loop\": false, \"kwargs_file\": \"../config/CNFGTR.json\", \"input_collection\": \"mammals.data\", \"output_collection\": \"mammals.CNFGTR\", \"output_collections_file\": null, \"output_collections\": [\"mammals.CNFGTR\"], \"db_host\": \"r3520\", \"input_collections_file\": null, \"kwargs\": {\"model\": \"CNFGTR\"}, \"log_name\": \"log\", \"input_collections\": [\"mammals.data\"]}"
      ],
      "text/plain": [
       "<IPython.core.display.Markdown object>"
      ]
     },
     "metadata": {},
     "output_type": "display_data"
    },
    {
     "data": {
      "text/markdown": [
       "{\"mong\": \"0.0.10-dev\", \"monglog\": \"0.0.1-dev\", \"map_collection\": \"0.0.8-dev\", \"masterslave\": \"0.0.10-dev\", \"ml\": \"0.0.6-dev\"}"
      ],
      "text/plain": [
       "<IPython.core.display.Markdown object>"
      ]
     },
     "metadata": {},
     "output_type": "display_data"
    },
    {
     "data": {
      "text/markdown": [
       "#### Ants"
      ],
      "text/plain": [
       "<IPython.core.display.Markdown object>"
      ]
     },
     "metadata": {},
     "output_type": "display_data"
    },
    {
     "data": {
      "text/markdown": [
       "##### data.log"
      ],
      "text/plain": [
       "<IPython.core.display.Markdown object>"
      ]
     },
     "metadata": {},
     "output_type": "display_data"
    },
    {
     "data": {
      "text/markdown": [
       "{\"input_directory\": \"/short/xe9/caj248/../data/ants\", \"log_level\": \"DEBUG\", \"output_collection\": \"ants.data\", \"tree_file\": \"../config/ants.nwk\", \"db_host\": \"r1822\", \"aln_length\": 1500, \"log_name\": \"log\", \"codon_position\": -1}"
      ],
      "text/plain": [
       "<IPython.core.display.Markdown object>"
      ]
     },
     "metadata": {},
     "output_type": "display_data"
    },
    {
     "data": {
      "text/markdown": [
       "{\"mong\": \"0.0.9-dev\", \"cogent\": \"1.5.3\", \"masterslave\": \"0.0.10-dev\", \"consume\": \"0.0.4-dev\", \"monglog\": \"0.0.1-dev\"}"
      ],
      "text/plain": [
       "<IPython.core.display.Markdown object>"
      ]
     },
     "metadata": {},
     "output_type": "display_data"
    },
    {
     "data": {
      "text/markdown": [
       "{\"input_directory\": \"/short/xe9/caj248/../data/ants\", \"log_level\": \"DEBUG\", \"output_collection\": \"ants.data\", \"tree_file\": \"../config/ants.nwk\", \"db_host\": \"r1822\", \"aln_length\": 1500, \"log_name\": \"log\", \"codon_position\": -1}"
      ],
      "text/plain": [
       "<IPython.core.display.Markdown object>"
      ]
     },
     "metadata": {},
     "output_type": "display_data"
    },
    {
     "data": {
      "text/markdown": [
       "{\"mong\": \"0.0.9-dev\", \"cogent\": \"1.5.3-dev\", \"masterslave\": \"0.0.10-dev\", \"consume\": \"0.0.5-dev\", \"monglog\": \"0.0.1-dev\"}"
      ],
      "text/plain": [
       "<IPython.core.display.Markdown object>"
      ]
     },
     "metadata": {},
     "output_type": "display_data"
    },
    {
     "data": {
      "text/markdown": [
       "##### GNC.log"
      ],
      "text/plain": [
       "<IPython.core.display.Markdown object>"
      ]
     },
     "metadata": {},
     "output_type": "display_data"
    },
    {
     "data": {
      "text/markdown": [
       "{\"function\": \"ml.ml\", \"start_over\": true, \"log_level\": \"DEBUG\", \"no_mpi_main_loop\": false, \"kwargs_file\": \"../config/GNC.json\", \"input_collection\": \"ants.data\", \"output_collection\": \"ants.GNC\", \"output_collections_file\": null, \"output_collections\": [\"ants.GNC\"], \"db_host\": \"r2390\", \"input_collections_file\": null, \"kwargs\": {\"model\": \"GNC\"}, \"log_name\": \"log\", \"input_collections\": [\"ants.data\"]}"
      ],
      "text/plain": [
       "<IPython.core.display.Markdown object>"
      ]
     },
     "metadata": {},
     "output_type": "display_data"
    },
    {
     "data": {
      "text/markdown": [
       "{\"mong\": \"0.0.10-dev\", \"monglog\": \"0.0.1-dev\", \"map_collection\": \"0.0.8-dev\", \"masterslave\": \"0.0.10-dev\", \"ml\": \"0.0.10-dev\"}"
      ],
      "text/plain": [
       "<IPython.core.display.Markdown object>"
      ]
     },
     "metadata": {},
     "output_type": "display_data"
    },
    {
     "data": {
      "text/markdown": [
       "##### Y98.log"
      ],
      "text/plain": [
       "<IPython.core.display.Markdown object>"
      ]
     },
     "metadata": {},
     "output_type": "display_data"
    },
    {
     "data": {
      "text/markdown": [
       "{\"function\": \"ml.ml\", \"start_over\": false, \"log_level\": \"DEBUG\", \"no_mpi_main_loop\": false, \"kwargs_file\": \"../config/Y98.json\", \"input_collection\": \"ants.data\", \"output_collection\": \"ants.Y98\", \"output_collections_file\": null, \"output_collections\": [\"ants.Y98\"], \"db_host\": \"r95\", \"input_collections_file\": null, \"kwargs\": {\"model\": \"Y98\"}, \"log_name\": \"log\", \"input_collections\": [\"ants.data\"]}"
      ],
      "text/plain": [
       "<IPython.core.display.Markdown object>"
      ]
     },
     "metadata": {},
     "output_type": "display_data"
    },
    {
     "data": {
      "text/markdown": [
       "{\"mong\": \"0.0.10-dev\", \"monglog\": \"0.0.1-dev\", \"map_collection\": \"0.0.8-dev\", \"masterslave\": \"0.0.10-dev\", \"ml\": \"0.0.11-dev\"}"
      ],
      "text/plain": [
       "<IPython.core.display.Markdown object>"
      ]
     },
     "metadata": {},
     "output_type": "display_data"
    },
    {
     "data": {
      "text/markdown": [
       "##### CNFGTR.log"
      ],
      "text/plain": [
       "<IPython.core.display.Markdown object>"
      ]
     },
     "metadata": {},
     "output_type": "display_data"
    },
    {
     "data": {
      "text/markdown": [
       "{\"function\": \"ml.ml\", \"start_over\": false, \"log_level\": \"DEBUG\", \"no_mpi_main_loop\": false, \"kwargs_file\": \"../config/CNFGTR.json\", \"input_collection\": \"ants.data\", \"output_collection\": \"ants.CNFGTR\", \"output_collections_file\": null, \"output_collections\": [\"ants.CNFGTR\"], \"db_host\": \"r1822\", \"input_collections_file\": null, \"kwargs\": {\"model\": \"CNFGTR\"}, \"log_name\": \"log\", \"input_collections\": [\"ants.data\"]}"
      ],
      "text/plain": [
       "<IPython.core.display.Markdown object>"
      ]
     },
     "metadata": {},
     "output_type": "display_data"
    },
    {
     "data": {
      "text/markdown": [
       "{\"function\": \"ml.ml\", \"start_over\": false, \"log_level\": \"DEBUG\", \"no_mpi_main_loop\": false, \"kwargs_file\": \"../config/CNFGTR.json\", \"input_collection\": \"ants.data\", \"output_collection\": \"ants.CNFGTR\", \"output_collections_file\": null, \"output_collections\": [\"ants.CNFGTR\"], \"db_host\": \"r1822\", \"input_collections_file\": null, \"kwargs\": {\"model\": \"CNFGTR\"}, \"log_name\": \"log\", \"input_collections\": [\"ants.data\"]}"
      ],
      "text/plain": [
       "<IPython.core.display.Markdown object>"
      ]
     },
     "metadata": {},
     "output_type": "display_data"
    },
    {
     "data": {
      "text/markdown": [
       "{\"mong\": \"0.0.9-dev\", \"monglog\": \"0.0.1-dev\", \"map_collection\": \"0.0.7-dev\", \"masterslave\": \"0.0.10-dev\", \"ml\": \"0.0.4-dev\"}"
      ],
      "text/plain": [
       "<IPython.core.display.Markdown object>"
      ]
     },
     "metadata": {},
     "output_type": "display_data"
    },
    {
     "data": {
      "text/markdown": [
       "{\"function\": \"ml.ml\", \"start_over\": false, \"log_level\": \"DEBUG\", \"no_mpi_main_loop\": false, \"kwargs_file\": \"../config/CNFGTR.json\", \"input_collection\": \"ants.data\", \"output_collection\": \"ants.CNFGTR\", \"output_collections_file\": null, \"output_collections\": [\"ants.CNFGTR\"], \"db_host\": \"r1822\", \"input_collections_file\": null, \"kwargs\": {\"model\": \"CNFGTR\"}, \"log_name\": \"log\", \"input_collections\": [\"ants.data\"]}"
      ],
      "text/plain": [
       "<IPython.core.display.Markdown object>"
      ]
     },
     "metadata": {},
     "output_type": "display_data"
    },
    {
     "data": {
      "text/markdown": [
       "{\"mong\": \"0.0.9-dev\", \"monglog\": \"0.0.1-dev\", \"map_collection\": \"0.0.8-dev\", \"masterslave\": \"0.0.10-dev\", \"ml\": \"0.0.4-dev\"}"
      ],
      "text/plain": [
       "<IPython.core.display.Markdown object>"
      ]
     },
     "metadata": {},
     "output_type": "display_data"
    },
    {
     "data": {
      "text/markdown": [
       "{\"function\": \"ml.ml\", \"start_over\": false, \"log_level\": \"DEBUG\", \"no_mpi_main_loop\": false, \"kwargs_file\": \"../config/CNFGTR.json\", \"input_collection\": \"ants.data\", \"output_collection\": \"ants.CNFGTR\", \"output_collections_file\": null, \"output_collections\": [\"ants.CNFGTR\"], \"db_host\": \"r1822\", \"input_collections_file\": null, \"kwargs\": {\"model\": \"CNFGTR\"}, \"log_name\": \"log\", \"input_collections\": [\"ants.data\"]}"
      ],
      "text/plain": [
       "<IPython.core.display.Markdown object>"
      ]
     },
     "metadata": {},
     "output_type": "display_data"
    },
    {
     "data": {
      "text/markdown": [
       "{\"mong\": \"0.0.10-dev\", \"monglog\": \"0.0.1-dev\", \"map_collection\": \"0.0.8-dev\", \"masterslave\": \"0.0.10-dev\", \"ml\": \"0.0.4-dev\"}"
      ],
      "text/plain": [
       "<IPython.core.display.Markdown object>"
      ]
     },
     "metadata": {},
     "output_type": "display_data"
    },
    {
     "data": {
      "text/markdown": [
       "{\"function\": \"ml.ml\", \"start_over\": false, \"log_level\": \"DEBUG\", \"no_mpi_main_loop\": false, \"kwargs_file\": \"../config/CNFGTR.json\", \"input_collection\": \"ants.data\", \"output_collection\": \"ants.CNFGTR\", \"output_collections_file\": null, \"output_collections\": [\"ants.CNFGTR\"], \"db_host\": \"r1822\", \"input_collections_file\": null, \"kwargs\": {\"model\": \"CNFGTR\"}, \"log_name\": \"log\", \"input_collections\": [\"ants.data\"]}"
      ],
      "text/plain": [
       "<IPython.core.display.Markdown object>"
      ]
     },
     "metadata": {},
     "output_type": "display_data"
    },
    {
     "data": {
      "text/markdown": [
       "{\"mong\": \"0.0.10-dev\", \"monglog\": \"0.0.1-dev\", \"map_collection\": \"0.0.8-dev\", \"masterslave\": \"0.0.10-dev\", \"ml\": \"0.0.5-dev\"}"
      ],
      "text/plain": [
       "<IPython.core.display.Markdown object>"
      ]
     },
     "metadata": {},
     "output_type": "display_data"
    },
    {
     "data": {
      "text/markdown": [
       "{\"function\": \"ml.ml\", \"start_over\": true, \"log_level\": \"DEBUG\", \"no_mpi_main_loop\": false, \"kwargs_file\": \"../config/CNFGTR.json\", \"input_collection\": \"ants.data\", \"output_collection\": \"ants.CNFGTR\", \"output_collections_file\": null, \"output_collections\": [\"ants.CNFGTR\"], \"db_host\": \"r3520\", \"input_collections_file\": null, \"kwargs\": {\"model\": \"CNFGTR\"}, \"log_name\": \"log\", \"input_collections\": [\"ants.data\"]}"
      ],
      "text/plain": [
       "<IPython.core.display.Markdown object>"
      ]
     },
     "metadata": {},
     "output_type": "display_data"
    },
    {
     "data": {
      "text/markdown": [
       "{\"mong\": \"0.0.10-dev\", \"monglog\": \"0.0.1-dev\", \"map_collection\": \"0.0.8-dev\", \"masterslave\": \"0.0.10-dev\", \"ml\": \"0.0.6-dev\"}"
      ],
      "text/plain": [
       "<IPython.core.display.Markdown object>"
      ]
     },
     "metadata": {},
     "output_type": "display_data"
    },
    {
     "data": {
      "text/markdown": [
       "#### Human/Xenopus/Fugu"
      ],
      "text/plain": [
       "<IPython.core.display.Markdown object>"
      ]
     },
     "metadata": {},
     "output_type": "display_data"
    },
    {
     "data": {
      "text/markdown": [
       "##### data.log"
      ],
      "text/plain": [
       "<IPython.core.display.Markdown object>"
      ]
     },
     "metadata": {},
     "output_type": "display_data"
    },
    {
     "data": {
      "text/markdown": [
       "{\"input_directory\": \"/short/xe9/caj248/../data/hum_xen_fug\", \"log_level\": \"DEBUG\", \"output_collection\": \"hum_xen_fug.data\", \"tree_file\": \"../config/hum_xen_fug.nwk\", \"db_host\": \"r1822\", \"aln_length\": 1500, \"log_name\": \"log\", \"codon_position\": -1}"
      ],
      "text/plain": [
       "<IPython.core.display.Markdown object>"
      ]
     },
     "metadata": {},
     "output_type": "display_data"
    },
    {
     "data": {
      "text/markdown": [
       "{\"mong\": \"0.0.9-dev\", \"cogent\": \"1.5.3\", \"masterslave\": \"0.0.10-dev\", \"consume\": \"0.0.4-dev\", \"monglog\": \"0.0.1-dev\"}"
      ],
      "text/plain": [
       "<IPython.core.display.Markdown object>"
      ]
     },
     "metadata": {},
     "output_type": "display_data"
    },
    {
     "data": {
      "text/markdown": [
       "##### GNC.log"
      ],
      "text/plain": [
       "<IPython.core.display.Markdown object>"
      ]
     },
     "metadata": {},
     "output_type": "display_data"
    },
    {
     "data": {
      "text/markdown": [
       "{\"function\": \"ml.ml\", \"start_over\": true, \"log_level\": \"DEBUG\", \"no_mpi_main_loop\": false, \"kwargs_file\": \"../config/GNC.json\", \"input_collection\": \"hum_xen_fug.data\", \"output_collection\": \"hum_xen_fug.GNC\", \"output_collections_file\": null, \"output_collections\": [\"hum_xen_fug.GNC\"], \"db_host\": \"r199\", \"input_collections_file\": null, \"kwargs\": {\"model\": \"GNC\"}, \"log_name\": \"log\", \"input_collections\": [\"hum_xen_fug.data\"]}"
      ],
      "text/plain": [
       "<IPython.core.display.Markdown object>"
      ]
     },
     "metadata": {},
     "output_type": "display_data"
    },
    {
     "data": {
      "text/markdown": [
       "{\"mong\": \"0.0.10-dev\", \"monglog\": \"0.0.1-dev\", \"map_collection\": \"0.0.8-dev\", \"masterslave\": \"0.0.10-dev\", \"ml\": \"0.0.8-dev\"}"
      ],
      "text/plain": [
       "<IPython.core.display.Markdown object>"
      ]
     },
     "metadata": {},
     "output_type": "display_data"
    },
    {
     "data": {
      "text/markdown": [
       "##### Y98.log"
      ],
      "text/plain": [
       "<IPython.core.display.Markdown object>"
      ]
     },
     "metadata": {},
     "output_type": "display_data"
    },
    {
     "data": {
      "text/markdown": [
       "{\"function\": \"ml.ml\", \"start_over\": true, \"log_level\": \"DEBUG\", \"no_mpi_main_loop\": false, \"kwargs_file\": \"../config/Y98.json\", \"input_collection\": \"hum_xen_fug.data\", \"output_collection\": \"hum_xen_fug.Y98\", \"output_collections_file\": null, \"output_collections\": [\"hum_xen_fug.Y98\"], \"db_host\": \"r95\", \"input_collections_file\": null, \"kwargs\": {\"model\": \"Y98\"}, \"log_name\": \"log\", \"input_collections\": [\"hum_xen_fug.data\"]}"
      ],
      "text/plain": [
       "<IPython.core.display.Markdown object>"
      ]
     },
     "metadata": {},
     "output_type": "display_data"
    },
    {
     "data": {
      "text/markdown": [
       "{\"mong\": \"0.0.10-dev\", \"monglog\": \"0.0.1-dev\", \"map_collection\": \"0.0.8-dev\", \"masterslave\": \"0.0.10-dev\", \"ml\": \"0.0.11-dev\"}"
      ],
      "text/plain": [
       "<IPython.core.display.Markdown object>"
      ]
     },
     "metadata": {},
     "output_type": "display_data"
    },
    {
     "data": {
      "text/markdown": [
       "##### CNFGTR.log"
      ],
      "text/plain": [
       "<IPython.core.display.Markdown object>"
      ]
     },
     "metadata": {},
     "output_type": "display_data"
    },
    {
     "data": {
      "text/markdown": [
       "{\"function\": \"ml.ml\", \"start_over\": false, \"log_level\": \"DEBUG\", \"no_mpi_main_loop\": false, \"kwargs_file\": \"../config/CNFGTR.json\", \"input_collection\": \"hum_xen_fug.data\", \"output_collection\": \"hum_xen_fug.CNFGTR\", \"output_collections_file\": null, \"output_collections\": [\"hum_xen_fug.CNFGTR\"], \"db_host\": \"r1822\", \"input_collections_file\": null, \"kwargs\": {\"model\": \"CNFGTR\"}, \"log_name\": \"log\", \"input_collections\": [\"hum_xen_fug.data\"]}"
      ],
      "text/plain": [
       "<IPython.core.display.Markdown object>"
      ]
     },
     "metadata": {},
     "output_type": "display_data"
    },
    {
     "data": {
      "text/markdown": [
       "{\"function\": \"ml.ml\", \"start_over\": false, \"log_level\": \"DEBUG\", \"no_mpi_main_loop\": false, \"kwargs_file\": \"../config/CNFGTR.json\", \"input_collection\": \"hum_xen_fug.data\", \"output_collection\": \"hum_xen_fug.CNFGTR\", \"output_collections_file\": null, \"output_collections\": [\"hum_xen_fug.CNFGTR\"], \"db_host\": \"r1822\", \"input_collections_file\": null, \"kwargs\": {\"model\": \"CNFGTR\"}, \"log_name\": \"log\", \"input_collections\": [\"hum_xen_fug.data\"]}"
      ],
      "text/plain": [
       "<IPython.core.display.Markdown object>"
      ]
     },
     "metadata": {},
     "output_type": "display_data"
    },
    {
     "data": {
      "text/markdown": [
       "{\"mong\": \"0.0.9-dev\", \"monglog\": \"0.0.1-dev\", \"map_collection\": \"0.0.7-dev\", \"masterslave\": \"0.0.10-dev\", \"ml\": \"0.0.4-dev\"}"
      ],
      "text/plain": [
       "<IPython.core.display.Markdown object>"
      ]
     },
     "metadata": {},
     "output_type": "display_data"
    },
    {
     "data": {
      "text/markdown": [
       "{\"function\": \"ml.ml\", \"start_over\": true, \"log_level\": \"DEBUG\", \"no_mpi_main_loop\": false, \"kwargs_file\": \"../config/CNFGTR.json\", \"input_collection\": \"hum_xen_fug.data\", \"output_collection\": \"hum_xen_fug.CNFGTR\", \"output_collections_file\": null, \"output_collections\": [\"hum_xen_fug.CNFGTR\"], \"db_host\": \"r3520\", \"input_collections_file\": null, \"kwargs\": {\"model\": \"CNFGTR\"}, \"log_name\": \"log\", \"input_collections\": [\"hum_xen_fug.data\"]}"
      ],
      "text/plain": [
       "<IPython.core.display.Markdown object>"
      ]
     },
     "metadata": {},
     "output_type": "display_data"
    },
    {
     "data": {
      "text/markdown": [
       "{\"mong\": \"0.0.10-dev\", \"monglog\": \"0.0.1-dev\", \"map_collection\": \"0.0.8-dev\", \"masterslave\": \"0.0.10-dev\", \"ml\": \"0.0.6-dev\"}"
      ],
      "text/plain": [
       "<IPython.core.display.Markdown object>"
      ]
     },
     "metadata": {},
     "output_type": "display_data"
    },
    {
     "data": {
      "text/markdown": [
       "{\"function\": \"ml.ml\", \"start_over\": true, \"log_level\": \"DEBUG\", \"no_mpi_main_loop\": false, \"kwargs_file\": \"../config/CNFGTR.json\", \"input_collection\": \"hum_xen_fug.data\", \"output_collection\": \"hum_xen_fug.CNFGTR\", \"output_collections_file\": null, \"output_collections\": [\"hum_xen_fug.CNFGTR\"], \"db_host\": \"r199\", \"input_collections_file\": null, \"kwargs\": {\"model\": \"CNFGTR\"}, \"log_name\": \"log\", \"input_collections\": [\"hum_xen_fug.data\"]}"
      ],
      "text/plain": [
       "<IPython.core.display.Markdown object>"
      ]
     },
     "metadata": {},
     "output_type": "display_data"
    },
    {
     "data": {
      "text/markdown": [
       "{\"mong\": \"0.0.10-dev\", \"monglog\": \"0.0.1-dev\", \"map_collection\": \"0.0.8-dev\", \"masterslave\": \"0.0.10-dev\", \"ml\": \"0.0.8-dev\"}"
      ],
      "text/plain": [
       "<IPython.core.display.Markdown object>"
      ]
     },
     "metadata": {},
     "output_type": "display_data"
    },
    {
     "data": {
      "text/markdown": [
       "#### Primate Introns"
      ],
      "text/plain": [
       "<IPython.core.display.Markdown object>"
      ]
     },
     "metadata": {},
     "output_type": "display_data"
    },
    {
     "data": {
      "text/markdown": [
       "##### data.log"
      ],
      "text/plain": [
       "<IPython.core.display.Markdown object>"
      ]
     },
     "metadata": {},
     "output_type": "display_data"
    },
    {
     "data": {
      "text/markdown": [
       "{\"input_directory\": \"/short/xe9/bdk248/data/human_macaque_marmoset_introns/data/introns\", \"log_level\": \"DEBUG\", \"output_collection\": \"introns.data\", \"tree_file\": \"../config/introns.nwk\", \"db_host\": \"r3426\", \"aln_length\": 1500, \"log_name\": \"log\", \"codon_position\": -1}"
      ],
      "text/plain": [
       "<IPython.core.display.Markdown object>"
      ]
     },
     "metadata": {},
     "output_type": "display_data"
    },
    {
     "data": {
      "text/markdown": [
       "{\"mong\": \"0.0.10-dev\", \"cogent\": \"1.5.3-dev\", \"masterslave\": \"0.0.10-dev\", \"consume\": \"0.0.5-dev\", \"monglog\": \"0.0.1-dev\"}"
      ],
      "text/plain": [
       "<IPython.core.display.Markdown object>"
      ]
     },
     "metadata": {},
     "output_type": "display_data"
    },
    {
     "data": {
      "text/markdown": [
       "##### GNC.log"
      ],
      "text/plain": [
       "<IPython.core.display.Markdown object>"
      ]
     },
     "metadata": {},
     "output_type": "display_data"
    },
    {
     "data": {
      "text/markdown": [
       "{\"function\": \"ml.ml\", \"start_over\": true, \"log_level\": \"DEBUG\", \"no_mpi_main_loop\": false, \"kwargs_file\": \"../config/GNC_no_stop.json\", \"input_collection\": \"introns.data\", \"output_collection\": \"introns.GNC\", \"output_collections_file\": null, \"output_collections\": [\"introns.GNC\"], \"db_host\": \"r3426\", \"input_collections_file\": null, \"kwargs\": {\"model\": \"GNC\", \"gc\": \"FFLLSSSSYYZOCCUWLLLLPPPPHHQQRRRRIIIMTTTTNNKKSSRRVVVVAAAADDEEGGGG\"}, \"log_name\": \"log\", \"input_collections\": [\"introns.data\"]}"
      ],
      "text/plain": [
       "<IPython.core.display.Markdown object>"
      ]
     },
     "metadata": {},
     "output_type": "display_data"
    },
    {
     "data": {
      "text/markdown": [
       "{\"mong\": \"0.0.10-dev\", \"monglog\": \"0.0.1-dev\", \"map_collection\": \"0.0.8-dev\", \"masterslave\": \"0.0.10-dev\", \"ml\": \"0.0.7-dev\"}"
      ],
      "text/plain": [
       "<IPython.core.display.Markdown object>"
      ]
     },
     "metadata": {},
     "output_type": "display_data"
    },
    {
     "data": {
      "text/markdown": [
       "##### Y98.log"
      ],
      "text/plain": [
       "<IPython.core.display.Markdown object>"
      ]
     },
     "metadata": {},
     "output_type": "display_data"
    },
    {
     "data": {
      "text/markdown": [
       "{\"function\": \"ml.ml\", \"start_over\": false, \"log_level\": \"DEBUG\", \"no_mpi_main_loop\": false, \"kwargs_file\": \"../config/Y98_no_stop.json\", \"input_collection\": \"introns.data\", \"output_collection\": \"introns.Y98\", \"output_collections_file\": null, \"output_collections\": [\"introns.Y98\"], \"db_host\": \"r95\", \"input_collections_file\": null, \"kwargs\": {\"model\": \"Y98\", \"gc\": \"FFLLSSSSYYZOCCUWLLLLPPPPHHQQRRRRIIIMTTTTNNKKSSRRVVVVAAAADDEEGGGG\"}, \"log_name\": \"log\", \"input_collections\": [\"introns.data\"]}"
      ],
      "text/plain": [
       "<IPython.core.display.Markdown object>"
      ]
     },
     "metadata": {},
     "output_type": "display_data"
    },
    {
     "data": {
      "text/markdown": [
       "{\"mong\": \"0.0.10-dev\", \"monglog\": \"0.0.1-dev\", \"map_collection\": \"0.0.8-dev\", \"masterslave\": \"0.0.10-dev\", \"ml\": \"0.0.11-dev\"}"
      ],
      "text/plain": [
       "<IPython.core.display.Markdown object>"
      ]
     },
     "metadata": {},
     "output_type": "display_data"
    },
    {
     "data": {
      "text/markdown": [
       "##### CNFGTR.log"
      ],
      "text/plain": [
       "<IPython.core.display.Markdown object>"
      ]
     },
     "metadata": {},
     "output_type": "display_data"
    },
    {
     "data": {
      "text/markdown": [
       "{\"function\": \"ml.ml\", \"start_over\": true, \"log_level\": \"DEBUG\", \"no_mpi_main_loop\": false, \"kwargs_file\": \"../config/CNFGTR_no_stop.json\", \"input_collection\": \"introns.data\", \"output_collection\": \"introns.CNFGTR\", \"output_collections_file\": null, \"output_collections\": [\"introns.CNFGTR\"], \"db_host\": \"r3426\", \"input_collections_file\": null, \"kwargs\": {\"model\": \"CNFGTR\", \"gc\": \"FFLLSSSSYYZOCCUWLLLLPPPPHHQQRRRRIIIMTTTTNNKKSSRRVVVVAAAADDEEGGGG\"}, \"log_name\": \"log\", \"input_collections\": [\"introns.data\"]}"
      ],
      "text/plain": [
       "<IPython.core.display.Markdown object>"
      ]
     },
     "metadata": {},
     "output_type": "display_data"
    },
    {
     "data": {
      "text/markdown": [
       "{\"mong\": \"0.0.10-dev\", \"monglog\": \"0.0.1-dev\", \"map_collection\": \"0.0.8-dev\", \"masterslave\": \"0.0.10-dev\", \"ml\": \"0.0.7-dev\"}"
      ],
      "text/plain": [
       "<IPython.core.display.Markdown object>"
      ]
     },
     "metadata": {},
     "output_type": "display_data"
    }
   ],
   "source": [
    "cols = ['GNC', 'Y98', 'CNFGTR']\n",
    "datasets = ['mammals', 'ants', 'hum_xen_fug', 'introns']\n",
    "ds_names = {'mammals' : 'Mammals',\n",
    "            'ants' : 'Ants',\n",
    "            'hum_xen_fug' : 'Human/Xenopus/Fugu',\n",
    "            'introns' : 'Primate Introns'}\n",
    "for dataset in datasets:\n",
    "    printmd('#### ' + ds_names[dataset])\n",
    "    for col in ['data'] + cols:\n",
    "        print_logs(getattr(getattr(client, dataset), col + '.log'))"
   ]
  },
  {
   "cell_type": "code",
   "execution_count": 5,
   "metadata": {
    "collapsed": false
   },
   "outputs": [],
   "source": [
    "aic = defaultdict(dict)\n",
    "for dataset in datasets:\n",
    "    for col in cols:\n",
    "        aic[ds_names[dataset]][col] = get_aic(getattr(getattr(client, dataset), col))"
   ]
  },
  {
   "cell_type": "markdown",
   "metadata": {},
   "source": [
    "### Display the AIC Table"
   ]
  },
  {
   "cell_type": "code",
   "execution_count": 6,
   "metadata": {
    "collapsed": false
   },
   "outputs": [],
   "source": [
    "rows = defaultdict(list)\n",
    "labels = []\n",
    "for dataset, models in aic.items():\n",
    "    labels.append(dataset)\n",
    "    \n",
    "    score = Counter()\n",
    "    for tag in models.values()[0]:\n",
    "        scores = [(models[m][tag], m) for m in models]\n",
    "        score[sorted(scores)[0][1]] += 1\n",
    "    for model, count in score.items():\n",
    "        rows[model].append(count)"
   ]
  },
  {
   "cell_type": "code",
   "execution_count": 8,
   "metadata": {
    "collapsed": false
   },
   "outputs": [
    {
     "data": {
      "text/html": [
       "<div>\n",
       "<table border=\"1\" class=\"dataframe\">\n",
       "  <thead>\n",
       "    <tr style=\"text-align: right;\">\n",
       "      <th></th>\n",
       "      <th>GNC</th>\n",
       "      <th>CNFGTR</th>\n",
       "      <th>Y98</th>\n",
       "    </tr>\n",
       "  </thead>\n",
       "  <tbody>\n",
       "    <tr>\n",
       "      <th>Human/Xenopus/Fugu</th>\n",
       "      <td>1603</td>\n",
       "      <td>1048</td>\n",
       "      <td>256</td>\n",
       "    </tr>\n",
       "    <tr>\n",
       "      <th>Mammals</th>\n",
       "      <td>2485</td>\n",
       "      <td>1566</td>\n",
       "      <td>99</td>\n",
       "    </tr>\n",
       "    <tr>\n",
       "      <th>Primate Introns</th>\n",
       "      <td>11924</td>\n",
       "      <td>1053</td>\n",
       "      <td>69</td>\n",
       "    </tr>\n",
       "    <tr>\n",
       "      <th>Ants</th>\n",
       "      <td>1599</td>\n",
       "      <td>330</td>\n",
       "      <td>90</td>\n",
       "    </tr>\n",
       "  </tbody>\n",
       "</table>\n",
       "</div>"
      ],
      "text/plain": [
       "                      GNC  CNFGTR  Y98\n",
       "Human/Xenopus/Fugu   1603    1048  256\n",
       "Mammals              2485    1566   99\n",
       "Primate Introns     11924    1053   69\n",
       "Ants                 1599     330   90"
      ]
     },
     "execution_count": 8,
     "metadata": {},
     "output_type": "execute_result"
    }
   ],
   "source": [
    "df = DataFrame(rows, index=labels, columns=['GNC', 'CNFGTR', 'Y98'])\n",
    "df"
   ]
  },
  {
   "cell_type": "code",
   "execution_count": 9,
   "metadata": {
    "collapsed": false
   },
   "outputs": [
    {
     "name": "stdout",
     "output_type": "stream",
     "text": [
      "\\begin{tabular}{lrrr}\n",
      "\\toprule\n",
      "{} &    GNC &  CNFGTR &  Y98 \\\\\n",
      "\\midrule\n",
      "Human/Xenopus/Fugu &   1603 &    1048 &  256 \\\\\n",
      "Mammals            &   2485 &    1566 &   99 \\\\\n",
      "Primate Introns    &  11924 &    1053 &   69 \\\\\n",
      "Ants               &   1599 &     330 &   90 \\\\\n",
      "\\bottomrule\n",
      "\\end{tabular}\n",
      "\n"
     ]
    }
   ],
   "source": [
    "print df.to_latex()"
   ]
  },
  {
   "cell_type": "code",
   "execution_count": null,
   "metadata": {
    "collapsed": true
   },
   "outputs": [],
   "source": []
  }
 ],
 "metadata": {
  "kernelspec": {
   "display_name": "Python 2",
   "language": "python",
   "name": "python2"
  },
  "language_info": {
   "codemirror_mode": {
    "name": "ipython",
    "version": 2
   },
   "file_extension": ".py",
   "mimetype": "text/x-python",
   "name": "python",
   "nbconvert_exporter": "python",
   "pygments_lexer": "ipython2",
   "version": "2.7.10"
  }
 },
 "nbformat": 4,
 "nbformat_minor": 0
}
