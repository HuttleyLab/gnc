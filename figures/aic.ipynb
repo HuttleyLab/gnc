{
 "cells": [
  {
   "cell_type": "markdown",
   "metadata": {},
   "source": [
    "# Generate Comparative AIC Table\n",
    "### Setup "
   ]
  },
  {
   "cell_type": "code",
   "execution_count": 1,
   "metadata": {
    "collapsed": false
   },
   "outputs": [],
   "source": [
    "from __future__ import division\n",
    "\n",
    "from collections import defaultdict, Counter\n",
    "from json import dumps, load\n",
    "\n",
    "from pymongo import MongoClient\n",
    "from pandas import DataFrame\n",
    "from IPython.display import Markdown, display\n",
    "from numpy import median, array, exp"
   ]
  },
  {
   "cell_type": "markdown",
   "metadata": {},
   "source": [
    "### Utility"
   ]
  },
  {
   "cell_type": "code",
   "execution_count": 6,
   "metadata": {
    "collapsed": false
   },
   "outputs": [],
   "source": [
    "def get_blacklist():\n",
    "    with open('blacklist.json') as bl:\n",
    "        return load(bl)\n",
    "\n",
    "def get_saturated(col):\n",
    "    bl = get_blacklist()\n",
    "    return [d['_id'] for d in col.find({'_id': {'$nin': bl}}) \n",
    "            if max(d['lf']['params']['length'].values()) > 10.-1e-4]\n",
    "\n",
    "def get_hard_up(col):\n",
    "    bl = get_blacklist()\n",
    "    return [d['_id'] for d in col.find({'_id': {'$nin': bl}}) \n",
    "            if d['lf']['hard_up']]\n",
    "\n",
    "def get_aic(col):\n",
    "    bl = get_blacklist()\n",
    "    df = col.find_one()['lf']['df']\n",
    "    return {d['_id']:2*df - 2*d['lf']['ll'] for d in col.find({'_id': {'$nin': bl}})}    \n",
    "\n",
    "def confidence_set(aics, p=0.95):\n",
    "    models, aics = zip(*aics)\n",
    "    aics = array(aics)\n",
    "    aic_diffs = aics - aics.min()\n",
    "    model_likelihoods = exp(-aic_diffs/2.)\n",
    "    akaike_weights = model_likelihoods / model_likelihoods.sum()\n",
    "    cum_prob = 0.\n",
    "    result = {}\n",
    "    for weight, model in sorted(zip(akaike_weights, models))[::-1]:\n",
    "        cum_prob += weight\n",
    "        result[model] = cum_prob\n",
    "        if cum_prob > p:\n",
    "            break\n",
    "    return result\n",
    "\n",
    "def print_logs(log,  level='INFO'):\n",
    "    printmd('##### ' + log.name)\n",
    "    for d in log.find({'level':level}):\n",
    "        printmd(dumps(d['message']))\n",
    "        \n",
    "def printmd(string):\n",
    "    ''' thanks http://stackoverflow.com/questions/32026727/format-output-of-code-cell-with-markdown '''\n",
    "    display(Markdown(string))"
   ]
  },
  {
   "cell_type": "markdown",
   "metadata": {},
   "source": [
    "### Load the Data"
   ]
  },
  {
   "cell_type": "code",
   "execution_count": 7,
   "metadata": {
    "collapsed": true
   },
   "outputs": [],
   "source": [
    "client = MongoClient()"
   ]
  },
  {
   "cell_type": "code",
   "execution_count": 8,
   "metadata": {
    "collapsed": false
   },
   "outputs": [
    {
     "data": {
      "text/markdown": [
       "#### Mammals"
      ],
      "text/plain": [
       "<IPython.core.display.Markdown object>"
      ]
     },
     "metadata": {},
     "output_type": "display_data"
    },
    {
     "data": {
      "text/markdown": [
       "##### data.log"
      ],
      "text/plain": [
       "<IPython.core.display.Markdown object>"
      ]
     },
     "metadata": {},
     "output_type": "display_data"
    },
    {
     "data": {
      "text/markdown": [
       "{\"input_directory\": \"/short/xe9/bdk248/data/mammals\", \"log_level\": \"DEBUG\", \"output_collection\": \"mammals.data\", \"tree_file\": \"../config/mammals.nwk\", \"db_host\": \"r2081\", \"aln_length\": 1500, \"log_name\": \"log\", \"codon_position\": -1}"
      ],
      "text/plain": [
       "<IPython.core.display.Markdown object>"
      ]
     },
     "metadata": {},
     "output_type": "display_data"
    },
    {
     "data": {
      "text/markdown": [
       "{\"mong\": \"0.0.10-dev\", \"cogent\": \"1.5.3-dev\", \"masterslave\": \"0.0.10-dev\", \"consume\": \"0.0.5-dev\", \"monglog\": \"0.0.1-dev\"}"
      ],
      "text/plain": [
       "<IPython.core.display.Markdown object>"
      ]
     },
     "metadata": {},
     "output_type": "display_data"
    },
    {
     "data": {
      "text/markdown": [
       "##### GNC.log"
      ],
      "text/plain": [
       "<IPython.core.display.Markdown object>"
      ]
     },
     "metadata": {},
     "output_type": "display_data"
    },
    {
     "data": {
      "text/markdown": [
       "{\"function\": \"ml.ml\", \"start_over\": true, \"log_level\": \"DEBUG\", \"no_mpi_main_loop\": false, \"kwargs_file\": \"../config/GNC.json\", \"input_collection\": \"mammals.data\", \"output_collection\": \"mammals.GNC\", \"output_collections_file\": null, \"output_collections\": [\"mammals.GNC\"], \"db_host\": \"r2081\", \"input_collections_file\": null, \"kwargs\": {\"model\": \"GNC\"}, \"log_name\": \"log\", \"input_collections\": [\"mammals.data\"]}"
      ],
      "text/plain": [
       "<IPython.core.display.Markdown object>"
      ]
     },
     "metadata": {},
     "output_type": "display_data"
    },
    {
     "data": {
      "text/markdown": [
       "{\"mong\": \"0.0.10-dev\", \"monglog\": \"0.0.1-dev\", \"map_collection\": \"0.0.8-dev\", \"masterslave\": \"0.0.10-dev\", \"ml\": \"0.0.11-dev\"}"
      ],
      "text/plain": [
       "<IPython.core.display.Markdown object>"
      ]
     },
     "metadata": {},
     "output_type": "display_data"
    },
    {
     "data": {
      "text/markdown": [
       "##### Y98.log"
      ],
      "text/plain": [
       "<IPython.core.display.Markdown object>"
      ]
     },
     "metadata": {},
     "output_type": "display_data"
    },
    {
     "data": {
      "text/markdown": [
       "{\"function\": \"ml.ml\", \"start_over\": true, \"log_level\": \"DEBUG\", \"no_mpi_main_loop\": false, \"kwargs_file\": \"../config/Y98.json\", \"input_collection\": \"mammals.data\", \"output_collection\": \"mammals.Y98\", \"output_collections_file\": null, \"output_collections\": [\"mammals.Y98\"], \"db_host\": \"r2081\", \"input_collections_file\": null, \"kwargs\": {\"model\": \"Y98\"}, \"log_name\": \"log\", \"input_collections\": [\"mammals.data\"]}"
      ],
      "text/plain": [
       "<IPython.core.display.Markdown object>"
      ]
     },
     "metadata": {},
     "output_type": "display_data"
    },
    {
     "data": {
      "text/markdown": [
       "{\"mong\": \"0.0.10-dev\", \"monglog\": \"0.0.1-dev\", \"map_collection\": \"0.0.8-dev\", \"masterslave\": \"0.0.10-dev\", \"ml\": \"0.0.11-dev\"}"
      ],
      "text/plain": [
       "<IPython.core.display.Markdown object>"
      ]
     },
     "metadata": {},
     "output_type": "display_data"
    },
    {
     "data": {
      "text/markdown": [
       "##### CNFGTR.log"
      ],
      "text/plain": [
       "<IPython.core.display.Markdown object>"
      ]
     },
     "metadata": {},
     "output_type": "display_data"
    },
    {
     "data": {
      "text/markdown": [
       "{\"function\": \"ml.ml\", \"start_over\": false, \"log_level\": \"DEBUG\", \"no_mpi_main_loop\": false, \"kwargs_file\": \"../config/CNFGTR.json\", \"input_collection\": \"mammals.data\", \"output_collection\": \"mammals.CNFGTR\", \"output_collections_file\": null, \"output_collections\": [\"mammals.CNFGTR\"], \"db_host\": \"r2081\", \"input_collections_file\": null, \"kwargs\": {\"model\": \"CNFGTR\"}, \"log_name\": \"log\", \"input_collections\": [\"mammals.data\"]}"
      ],
      "text/plain": [
       "<IPython.core.display.Markdown object>"
      ]
     },
     "metadata": {},
     "output_type": "display_data"
    },
    {
     "data": {
      "text/markdown": [
       "{\"mong\": \"0.0.10-dev\", \"monglog\": \"0.0.1-dev\", \"map_collection\": \"0.0.8-dev\", \"masterslave\": \"0.0.10-dev\", \"ml\": \"0.0.11-dev\"}"
      ],
      "text/plain": [
       "<IPython.core.display.Markdown object>"
      ]
     },
     "metadata": {},
     "output_type": "display_data"
    },
    {
     "data": {
      "text/markdown": [
       "#### Ants"
      ],
      "text/plain": [
       "<IPython.core.display.Markdown object>"
      ]
     },
     "metadata": {},
     "output_type": "display_data"
    },
    {
     "data": {
      "text/markdown": [
       "##### data.log"
      ],
      "text/plain": [
       "<IPython.core.display.Markdown object>"
      ]
     },
     "metadata": {},
     "output_type": "display_data"
    },
    {
     "data": {
      "text/markdown": [
       "{\"input_directory\": \"/short/xe9/bdk248/../data/ants\", \"log_level\": \"DEBUG\", \"output_collection\": \"ants.data\", \"tree_file\": \"../config/ants.nwk\", \"db_host\": \"r2081\", \"aln_length\": 1500, \"log_name\": \"log\", \"codon_position\": -1}"
      ],
      "text/plain": [
       "<IPython.core.display.Markdown object>"
      ]
     },
     "metadata": {},
     "output_type": "display_data"
    },
    {
     "data": {
      "text/markdown": [
       "{\"mong\": \"0.0.10-dev\", \"cogent\": \"1.5.3-dev\", \"masterslave\": \"0.0.10-dev\", \"consume\": \"0.0.5-dev\", \"monglog\": \"0.0.1-dev\"}"
      ],
      "text/plain": [
       "<IPython.core.display.Markdown object>"
      ]
     },
     "metadata": {},
     "output_type": "display_data"
    },
    {
     "data": {
      "text/markdown": [
       "##### GNC.log"
      ],
      "text/plain": [
       "<IPython.core.display.Markdown object>"
      ]
     },
     "metadata": {},
     "output_type": "display_data"
    },
    {
     "data": {
      "text/markdown": [
       "{\"function\": \"ml.ml\", \"start_over\": true, \"log_level\": \"DEBUG\", \"no_mpi_main_loop\": false, \"kwargs_file\": \"../config/GNC.json\", \"input_collection\": \"ants.data\", \"output_collection\": \"ants.GNC\", \"output_collections_file\": null, \"output_collections\": [\"ants.GNC\"], \"db_host\": \"r2081\", \"input_collections_file\": null, \"kwargs\": {\"model\": \"GNC\"}, \"log_name\": \"log\", \"input_collections\": [\"ants.data\"]}"
      ],
      "text/plain": [
       "<IPython.core.display.Markdown object>"
      ]
     },
     "metadata": {},
     "output_type": "display_data"
    },
    {
     "data": {
      "text/markdown": [
       "{\"mong\": \"0.0.10-dev\", \"monglog\": \"0.0.1-dev\", \"map_collection\": \"0.0.8-dev\", \"masterslave\": \"0.0.10-dev\", \"ml\": \"0.0.11-dev\"}"
      ],
      "text/plain": [
       "<IPython.core.display.Markdown object>"
      ]
     },
     "metadata": {},
     "output_type": "display_data"
    },
    {
     "data": {
      "text/markdown": [
       "##### Y98.log"
      ],
      "text/plain": [
       "<IPython.core.display.Markdown object>"
      ]
     },
     "metadata": {},
     "output_type": "display_data"
    },
    {
     "data": {
      "text/markdown": [
       "{\"function\": \"ml.ml\", \"start_over\": false, \"log_level\": \"DEBUG\", \"no_mpi_main_loop\": false, \"kwargs_file\": \"../config/Y98.json\", \"input_collection\": \"ants.data\", \"output_collection\": \"ants.Y98\", \"output_collections_file\": null, \"output_collections\": [\"ants.Y98\"], \"db_host\": \"r2081\", \"input_collections_file\": null, \"kwargs\": {\"model\": \"Y98\"}, \"log_name\": \"log\", \"input_collections\": [\"ants.data\"]}"
      ],
      "text/plain": [
       "<IPython.core.display.Markdown object>"
      ]
     },
     "metadata": {},
     "output_type": "display_data"
    },
    {
     "data": {
      "text/markdown": [
       "{\"mong\": \"0.0.10-dev\", \"monglog\": \"0.0.1-dev\", \"map_collection\": \"0.0.8-dev\", \"masterslave\": \"0.0.10-dev\", \"ml\": \"0.0.11-dev\"}"
      ],
      "text/plain": [
       "<IPython.core.display.Markdown object>"
      ]
     },
     "metadata": {},
     "output_type": "display_data"
    },
    {
     "data": {
      "text/markdown": [
       "##### CNFGTR.log"
      ],
      "text/plain": [
       "<IPython.core.display.Markdown object>"
      ]
     },
     "metadata": {},
     "output_type": "display_data"
    },
    {
     "data": {
      "text/markdown": [
       "{\"function\": \"ml.ml\", \"start_over\": true, \"log_level\": \"DEBUG\", \"no_mpi_main_loop\": false, \"kwargs_file\": \"../config/CNFGTR.json\", \"input_collection\": \"ants.data\", \"output_collection\": \"ants.CNFGTR\", \"output_collections_file\": null, \"output_collections\": [\"ants.CNFGTR\"], \"db_host\": \"r2081\", \"input_collections_file\": null, \"kwargs\": {\"model\": \"CNFGTR\"}, \"log_name\": \"log\", \"input_collections\": [\"ants.data\"]}"
      ],
      "text/plain": [
       "<IPython.core.display.Markdown object>"
      ]
     },
     "metadata": {},
     "output_type": "display_data"
    },
    {
     "data": {
      "text/markdown": [
       "{\"mong\": \"0.0.10-dev\", \"monglog\": \"0.0.1-dev\", \"map_collection\": \"0.0.8-dev\", \"masterslave\": \"0.0.10-dev\", \"ml\": \"0.0.11-dev\"}"
      ],
      "text/plain": [
       "<IPython.core.display.Markdown object>"
      ]
     },
     "metadata": {},
     "output_type": "display_data"
    },
    {
     "data": {
      "text/markdown": [
       "#### Vertebrates"
      ],
      "text/plain": [
       "<IPython.core.display.Markdown object>"
      ]
     },
     "metadata": {},
     "output_type": "display_data"
    },
    {
     "data": {
      "text/markdown": [
       "##### data.log"
      ],
      "text/plain": [
       "<IPython.core.display.Markdown object>"
      ]
     },
     "metadata": {},
     "output_type": "display_data"
    },
    {
     "data": {
      "text/markdown": [
       "{\"input_directory\": \"/short/xe9/bdk248/../data/hum_xen_fug\", \"log_level\": \"DEBUG\", \"output_collection\": \"hum_xen_fug.data\", \"tree_file\": \"../config/hum_xen_fug.nwk\", \"db_host\": \"r2081\", \"aln_length\": 1500, \"log_name\": \"log\", \"codon_position\": -1}"
      ],
      "text/plain": [
       "<IPython.core.display.Markdown object>"
      ]
     },
     "metadata": {},
     "output_type": "display_data"
    },
    {
     "data": {
      "text/markdown": [
       "{\"mong\": \"0.0.10-dev\", \"cogent\": \"1.5.3-dev\", \"masterslave\": \"0.0.10-dev\", \"consume\": \"0.0.5-dev\", \"monglog\": \"0.0.1-dev\"}"
      ],
      "text/plain": [
       "<IPython.core.display.Markdown object>"
      ]
     },
     "metadata": {},
     "output_type": "display_data"
    },
    {
     "data": {
      "text/markdown": [
       "##### GNC.log"
      ],
      "text/plain": [
       "<IPython.core.display.Markdown object>"
      ]
     },
     "metadata": {},
     "output_type": "display_data"
    },
    {
     "data": {
      "text/markdown": [
       "{\"function\": \"ml.ml\", \"start_over\": true, \"log_level\": \"DEBUG\", \"no_mpi_main_loop\": false, \"kwargs_file\": \"../config/GNC.json\", \"input_collection\": \"hum_xen_fug.data\", \"output_collection\": \"hum_xen_fug.GNC\", \"output_collections_file\": null, \"output_collections\": [\"hum_xen_fug.GNC\"], \"db_host\": \"r2081\", \"input_collections_file\": null, \"kwargs\": {\"model\": \"GNC\"}, \"log_name\": \"log\", \"input_collections\": [\"hum_xen_fug.data\"]}"
      ],
      "text/plain": [
       "<IPython.core.display.Markdown object>"
      ]
     },
     "metadata": {},
     "output_type": "display_data"
    },
    {
     "data": {
      "text/markdown": [
       "{\"mong\": \"0.0.10-dev\", \"monglog\": \"0.0.1-dev\", \"map_collection\": \"0.0.8-dev\", \"masterslave\": \"0.0.10-dev\", \"ml\": \"0.0.11-dev\"}"
      ],
      "text/plain": [
       "<IPython.core.display.Markdown object>"
      ]
     },
     "metadata": {},
     "output_type": "display_data"
    },
    {
     "data": {
      "text/markdown": [
       "##### Y98.log"
      ],
      "text/plain": [
       "<IPython.core.display.Markdown object>"
      ]
     },
     "metadata": {},
     "output_type": "display_data"
    },
    {
     "data": {
      "text/markdown": [
       "{\"function\": \"ml.ml\", \"start_over\": true, \"log_level\": \"DEBUG\", \"no_mpi_main_loop\": false, \"kwargs_file\": \"../config/Y98.json\", \"input_collection\": \"hum_xen_fug.data\", \"output_collection\": \"hum_xen_fug.Y98\", \"output_collections_file\": null, \"output_collections\": [\"hum_xen_fug.Y98\"], \"db_host\": \"r2081\", \"input_collections_file\": null, \"kwargs\": {\"model\": \"Y98\"}, \"log_name\": \"log\", \"input_collections\": [\"hum_xen_fug.data\"]}"
      ],
      "text/plain": [
       "<IPython.core.display.Markdown object>"
      ]
     },
     "metadata": {},
     "output_type": "display_data"
    },
    {
     "data": {
      "text/markdown": [
       "{\"mong\": \"0.0.10-dev\", \"monglog\": \"0.0.1-dev\", \"map_collection\": \"0.0.8-dev\", \"masterslave\": \"0.0.10-dev\", \"ml\": \"0.0.11-dev\"}"
      ],
      "text/plain": [
       "<IPython.core.display.Markdown object>"
      ]
     },
     "metadata": {},
     "output_type": "display_data"
    },
    {
     "data": {
      "text/markdown": [
       "##### CNFGTR.log"
      ],
      "text/plain": [
       "<IPython.core.display.Markdown object>"
      ]
     },
     "metadata": {},
     "output_type": "display_data"
    },
    {
     "data": {
      "text/markdown": [
       "{\"function\": \"ml.ml\", \"start_over\": true, \"log_level\": \"DEBUG\", \"no_mpi_main_loop\": false, \"kwargs_file\": \"../config/CNFGTR.json\", \"input_collection\": \"hum_xen_fug.data\", \"output_collection\": \"hum_xen_fug.CNFGTR\", \"output_collections_file\": null, \"output_collections\": [\"hum_xen_fug.CNFGTR\"], \"db_host\": \"r2081\", \"input_collections_file\": null, \"kwargs\": {\"model\": \"CNFGTR\"}, \"log_name\": \"log\", \"input_collections\": [\"hum_xen_fug.data\"]}"
      ],
      "text/plain": [
       "<IPython.core.display.Markdown object>"
      ]
     },
     "metadata": {},
     "output_type": "display_data"
    },
    {
     "data": {
      "text/markdown": [
       "{\"mong\": \"0.0.10-dev\", \"monglog\": \"0.0.1-dev\", \"map_collection\": \"0.0.8-dev\", \"masterslave\": \"0.0.10-dev\", \"ml\": \"0.0.11-dev\"}"
      ],
      "text/plain": [
       "<IPython.core.display.Markdown object>"
      ]
     },
     "metadata": {},
     "output_type": "display_data"
    },
    {
     "data": {
      "text/markdown": [
       "#### Primate Introns"
      ],
      "text/plain": [
       "<IPython.core.display.Markdown object>"
      ]
     },
     "metadata": {},
     "output_type": "display_data"
    },
    {
     "data": {
      "text/markdown": [
       "##### data.log"
      ],
      "text/plain": [
       "<IPython.core.display.Markdown object>"
      ]
     },
     "metadata": {},
     "output_type": "display_data"
    },
    {
     "data": {
      "text/markdown": [
       "{\"input_directory\": \"/short/xe9/bdk248/data/human_macaque_marmoset_introns/data/introns\", \"log_level\": \"DEBUG\", \"output_collection\": \"introns.data\", \"tree_file\": \"../config/introns.nwk\", \"db_host\": \"r2081\", \"aln_length\": 1500, \"log_name\": \"log\", \"codon_position\": -1}"
      ],
      "text/plain": [
       "<IPython.core.display.Markdown object>"
      ]
     },
     "metadata": {},
     "output_type": "display_data"
    },
    {
     "data": {
      "text/markdown": [
       "{\"mong\": \"0.0.10-dev\", \"cogent\": \"1.5.3-dev\", \"masterslave\": \"0.0.10-dev\", \"consume\": \"0.0.5-dev\", \"monglog\": \"0.0.1-dev\"}"
      ],
      "text/plain": [
       "<IPython.core.display.Markdown object>"
      ]
     },
     "metadata": {},
     "output_type": "display_data"
    },
    {
     "data": {
      "text/markdown": [
       "##### GNC.log"
      ],
      "text/plain": [
       "<IPython.core.display.Markdown object>"
      ]
     },
     "metadata": {},
     "output_type": "display_data"
    },
    {
     "data": {
      "text/markdown": [
       "{\"function\": \"ml.ml\", \"start_over\": true, \"log_level\": \"DEBUG\", \"no_mpi_main_loop\": false, \"kwargs_file\": \"../config/GNC_no_stop.json\", \"input_collection\": \"introns.data\", \"output_collection\": \"introns.GNC\", \"output_collections_file\": null, \"output_collections\": [\"introns.GNC\"], \"db_host\": \"r2081\", \"input_collections_file\": null, \"kwargs\": {\"model\": \"GNC\", \"gc\": \"FFLLSSSSYYZOCCUWLLLLPPPPHHQQRRRRIIIMTTTTNNKKSSRRVVVVAAAADDEEGGGG\"}, \"log_name\": \"log\", \"input_collections\": [\"introns.data\"]}"
      ],
      "text/plain": [
       "<IPython.core.display.Markdown object>"
      ]
     },
     "metadata": {},
     "output_type": "display_data"
    },
    {
     "data": {
      "text/markdown": [
       "{\"mong\": \"0.0.10-dev\", \"monglog\": \"0.0.1-dev\", \"map_collection\": \"0.0.8-dev\", \"masterslave\": \"0.0.10-dev\", \"ml\": \"0.0.11-dev\"}"
      ],
      "text/plain": [
       "<IPython.core.display.Markdown object>"
      ]
     },
     "metadata": {},
     "output_type": "display_data"
    },
    {
     "data": {
      "text/markdown": [
       "##### Y98.log"
      ],
      "text/plain": [
       "<IPython.core.display.Markdown object>"
      ]
     },
     "metadata": {},
     "output_type": "display_data"
    },
    {
     "data": {
      "text/markdown": [
       "{\"function\": \"ml.ml\", \"start_over\": false, \"log_level\": \"DEBUG\", \"no_mpi_main_loop\": false, \"kwargs_file\": \"../config/Y98_no_stop.json\", \"input_collection\": \"introns.data\", \"output_collection\": \"introns.Y98\", \"output_collections_file\": null, \"output_collections\": [\"introns.Y98\"], \"db_host\": \"r2081\", \"input_collections_file\": null, \"kwargs\": {\"model\": \"Y98\", \"gc\": \"FFLLSSSSYYZOCCUWLLLLPPPPHHQQRRRRIIIMTTTTNNKKSSRRVVVVAAAADDEEGGGG\"}, \"log_name\": \"log\", \"input_collections\": [\"introns.data\"]}"
      ],
      "text/plain": [
       "<IPython.core.display.Markdown object>"
      ]
     },
     "metadata": {},
     "output_type": "display_data"
    },
    {
     "data": {
      "text/markdown": [
       "{\"mong\": \"0.0.10-dev\", \"monglog\": \"0.0.1-dev\", \"map_collection\": \"0.0.8-dev\", \"masterslave\": \"0.0.10-dev\", \"ml\": \"0.0.11-dev\"}"
      ],
      "text/plain": [
       "<IPython.core.display.Markdown object>"
      ]
     },
     "metadata": {},
     "output_type": "display_data"
    },
    {
     "data": {
      "text/markdown": [
       "##### CNFGTR.log"
      ],
      "text/plain": [
       "<IPython.core.display.Markdown object>"
      ]
     },
     "metadata": {},
     "output_type": "display_data"
    },
    {
     "data": {
      "text/markdown": [
       "{\"function\": \"ml.ml\", \"start_over\": true, \"log_level\": \"DEBUG\", \"no_mpi_main_loop\": false, \"kwargs_file\": \"../config/CNFGTR_no_stop.json\", \"input_collection\": \"introns.data\", \"output_collection\": \"introns.CNFGTR\", \"output_collections_file\": null, \"output_collections\": [\"introns.CNFGTR\"], \"db_host\": \"r2081\", \"input_collections_file\": null, \"kwargs\": {\"model\": \"CNFGTR\", \"gc\": \"FFLLSSSSYYZOCCUWLLLLPPPPHHQQRRRRIIIMTTTTNNKKSSRRVVVVAAAADDEEGGGG\"}, \"log_name\": \"log\", \"input_collections\": [\"introns.data\"]}"
      ],
      "text/plain": [
       "<IPython.core.display.Markdown object>"
      ]
     },
     "metadata": {},
     "output_type": "display_data"
    },
    {
     "data": {
      "text/markdown": [
       "{\"mong\": \"0.0.10-dev\", \"monglog\": \"0.0.1-dev\", \"map_collection\": \"0.0.8-dev\", \"masterslave\": \"0.0.10-dev\", \"ml\": \"0.0.11-dev\"}"
      ],
      "text/plain": [
       "<IPython.core.display.Markdown object>"
      ]
     },
     "metadata": {},
     "output_type": "display_data"
    },
    {
     "data": {
      "text/markdown": [
       "{\"function\": \"ml.ml\", \"start_over\": false, \"log_level\": \"DEBUG\", \"no_mpi_main_loop\": false, \"kwargs_file\": \"../config/CNFGTR_no_stop.json\", \"input_collection\": \"introns.data\", \"output_collection\": \"introns.CNFGTR\", \"output_collections_file\": null, \"output_collections\": [\"introns.CNFGTR\"], \"db_host\": \"r2081\", \"input_collections_file\": null, \"kwargs\": {\"model\": \"CNFGTR\", \"gc\": \"FFLLSSSSYYZOCCUWLLLLPPPPHHQQRRRRIIIMTTTTNNKKSSRRVVVVAAAADDEEGGGG\"}, \"log_name\": \"log\", \"input_collections\": [\"introns.data\"]}"
      ],
      "text/plain": [
       "<IPython.core.display.Markdown object>"
      ]
     },
     "metadata": {},
     "output_type": "display_data"
    },
    {
     "data": {
      "text/markdown": [
       "{\"mong\": \"0.0.10-dev\", \"monglog\": \"0.0.1-dev\", \"map_collection\": \"0.0.8-dev\", \"masterslave\": \"0.0.10-dev\", \"ml\": \"0.0.11-dev\"}"
      ],
      "text/plain": [
       "<IPython.core.display.Markdown object>"
      ]
     },
     "metadata": {},
     "output_type": "display_data"
    }
   ],
   "source": [
    "cols = ['GNC', 'Y98', 'CNFGTR']\n",
    "datasets = ['mammals', 'ants', 'hum_xen_fug', 'introns']\n",
    "ds_names = {'mammals' : 'Mammals',\n",
    "            'ants' : 'Ants',\n",
    "            'hum_xen_fug' : 'Vertebrates',\n",
    "            'introns' : 'Primate Introns'}\n",
    "for dataset in datasets:\n",
    "    printmd('#### ' + ds_names[dataset])\n",
    "    for col in ['data'] + cols:\n",
    "        print_logs(getattr(getattr(client, dataset), col + '.log'))"
   ]
  },
  {
   "cell_type": "code",
   "execution_count": 9,
   "metadata": {
    "collapsed": false
   },
   "outputs": [],
   "source": [
    "aic = defaultdict(dict)\n",
    "sat = defaultdict(dict)\n",
    "hup = defaultdict(dict)\n",
    "for dataset in datasets:\n",
    "    for col in cols:\n",
    "        actual_col = getattr(getattr(client, dataset), col)\n",
    "        aic[ds_names[dataset]][col] = get_aic(actual_col)\n",
    "        sat[ds_names[dataset]][col] = set(get_saturated(actual_col))\n",
    "        hup[ds_names[dataset]][col] = set(get_hard_up(actual_col))"
   ]
  },
  {
   "cell_type": "markdown",
   "metadata": {},
   "source": [
    "### Display the AIC Winners Table"
   ]
  },
  {
   "cell_type": "code",
   "execution_count": 10,
   "metadata": {
    "collapsed": false
   },
   "outputs": [],
   "source": [
    "rows = defaultdict(list)\n",
    "labels = []\n",
    "for dataset in datasets:\n",
    "    labels.append(ds_names[dataset])\n",
    "    models = aic[labels[-1]]\n",
    "    \n",
    "    score = Counter()\n",
    "    for tag in models.values()[0]:\n",
    "        scores = [(models[m][tag], m) for m in models]\n",
    "        score[min(scores)[1]] += 1\n",
    "    for model, count in score.items():\n",
    "        rows[model].append(count)"
   ]
  },
  {
   "cell_type": "code",
   "execution_count": 11,
   "metadata": {
    "collapsed": false
   },
   "outputs": [
    {
     "data": {
      "text/html": [
       "<div>\n",
       "<table border=\"1\" class=\"dataframe\">\n",
       "  <thead>\n",
       "    <tr style=\"text-align: right;\">\n",
       "      <th></th>\n",
       "      <th>GNC</th>\n",
       "      <th>CNFGTR</th>\n",
       "      <th>Y98</th>\n",
       "    </tr>\n",
       "  </thead>\n",
       "  <tbody>\n",
       "    <tr>\n",
       "      <th>Mammals</th>\n",
       "      <td>59.841545</td>\n",
       "      <td>37.732112</td>\n",
       "      <td>2.426343</td>\n",
       "    </tr>\n",
       "    <tr>\n",
       "      <th>Ants</th>\n",
       "      <td>79.183267</td>\n",
       "      <td>16.384462</td>\n",
       "      <td>4.432271</td>\n",
       "    </tr>\n",
       "    <tr>\n",
       "      <th>Vertebrates</th>\n",
       "      <td>52.739044</td>\n",
       "      <td>37.749004</td>\n",
       "      <td>9.511952</td>\n",
       "    </tr>\n",
       "    <tr>\n",
       "      <th>Primate Introns</th>\n",
       "      <td>90.739892</td>\n",
       "      <td>8.700834</td>\n",
       "      <td>0.559274</td>\n",
       "    </tr>\n",
       "  </tbody>\n",
       "</table>\n",
       "</div>"
      ],
      "text/plain": [
       "                       GNC     CNFGTR       Y98\n",
       "Mammals          59.841545  37.732112  2.426343\n",
       "Ants             79.183267  16.384462  4.432271\n",
       "Vertebrates      52.739044  37.749004  9.511952\n",
       "Primate Introns  90.739892   8.700834  0.559274"
      ]
     },
     "execution_count": 11,
     "metadata": {},
     "output_type": "execute_result"
    }
   ],
   "source": [
    "df = DataFrame(rows, index=labels, columns=['GNC', 'CNFGTR', 'Y98'])\n",
    "df = df.div(df.sum(1), axis=0)*100\n",
    "df"
   ]
  },
  {
   "cell_type": "code",
   "execution_count": 12,
   "metadata": {
    "collapsed": false
   },
   "outputs": [
    {
     "name": "stdout",
     "output_type": "stream",
     "text": [
      "\\begin{tabular}{lrrr}\n",
      "\\toprule\n",
      "{} &   GNC &  CNFGTR &  Y98 \\\\\n",
      "\\midrule\n",
      "Mammals         & 59.8\\% &   37.7\\% & 2.4\\% \\\\\n",
      "Ants            & 79.2\\% &   16.4\\% & 4.4\\% \\\\\n",
      "Vertebrates     & 52.7\\% &   37.7\\% & 9.5\\% \\\\\n",
      "Primate Introns & 90.7\\% &    8.7\\% & 0.6\\% \\\\\n",
      "\\bottomrule\n",
      "\\end{tabular}\n",
      "\n"
     ]
    }
   ],
   "source": [
    "print df.to_latex(float_format=lambda x: '%.1f%%' % x)"
   ]
  },
  {
   "cell_type": "markdown",
   "metadata": {},
   "source": [
    "### Display the AIC CI Membership Table"
   ]
  },
  {
   "cell_type": "code",
   "execution_count": 13,
   "metadata": {
    "collapsed": false
   },
   "outputs": [],
   "source": [
    "rows = defaultdict(list)\n",
    "labels = []\n",
    "for dataset in datasets:\n",
    "    labels.append(ds_names[dataset])\n",
    "    models = aic[labels[-1]]\n",
    "    \n",
    "    score = Counter()\n",
    "    for tag in models.values()[0]:\n",
    "        scores = [(m, models[m][tag]) for m in models]\n",
    "        ci = confidence_set(scores)\n",
    "        for model in ci.keys():\n",
    "            score[model] += 1\n",
    "    for model, count in score.items():\n",
    "        rows[model].append(count/len(models.values()[0])*100)"
   ]
  },
  {
   "cell_type": "code",
   "execution_count": 14,
   "metadata": {
    "collapsed": false
   },
   "outputs": [
    {
     "data": {
      "text/html": [
       "<div>\n",
       "<table border=\"1\" class=\"dataframe\">\n",
       "  <thead>\n",
       "    <tr style=\"text-align: right;\">\n",
       "      <th></th>\n",
       "      <th>GNC</th>\n",
       "      <th>CNFGTR</th>\n",
       "      <th>Y98</th>\n",
       "    </tr>\n",
       "  </thead>\n",
       "  <tbody>\n",
       "    <tr>\n",
       "      <th>Mammals</th>\n",
       "      <td>63.827680</td>\n",
       "      <td>43.550384</td>\n",
       "      <td>4.704135</td>\n",
       "    </tr>\n",
       "    <tr>\n",
       "      <th>Ants</th>\n",
       "      <td>82.619522</td>\n",
       "      <td>21.364542</td>\n",
       "      <td>7.071713</td>\n",
       "    </tr>\n",
       "    <tr>\n",
       "      <th>Vertebrates</th>\n",
       "      <td>55.179283</td>\n",
       "      <td>42.280876</td>\n",
       "      <td>13.944223</td>\n",
       "    </tr>\n",
       "    <tr>\n",
       "      <th>Primate Introns</th>\n",
       "      <td>93.426240</td>\n",
       "      <td>11.698909</td>\n",
       "      <td>1.347758</td>\n",
       "    </tr>\n",
       "  </tbody>\n",
       "</table>\n",
       "</div>"
      ],
      "text/plain": [
       "                       GNC     CNFGTR        Y98\n",
       "Mammals          63.827680  43.550384   4.704135\n",
       "Ants             82.619522  21.364542   7.071713\n",
       "Vertebrates      55.179283  42.280876  13.944223\n",
       "Primate Introns  93.426240  11.698909   1.347758"
      ]
     },
     "execution_count": 14,
     "metadata": {},
     "output_type": "execute_result"
    }
   ],
   "source": [
    "df = DataFrame(rows, index=labels, columns=['GNC', 'CNFGTR', 'Y98'])\n",
    "df"
   ]
  },
  {
   "cell_type": "code",
   "execution_count": 15,
   "metadata": {
    "collapsed": false
   },
   "outputs": [
    {
     "name": "stdout",
     "output_type": "stream",
     "text": [
      "\\begin{tabular}{lrrr}\n",
      "\\toprule\n",
      "{} &   GNC &  CNFGTR &   Y98 \\\\\n",
      "\\midrule\n",
      "Mammals         & 63.8\\% &   43.6\\% &  4.7\\% \\\\\n",
      "Ants            & 82.6\\% &   21.4\\% &  7.1\\% \\\\\n",
      "Vertebrates     & 55.2\\% &   42.3\\% & 13.9\\% \\\\\n",
      "Primate Introns & 93.4\\% &   11.7\\% &  1.3\\% \\\\\n",
      "\\bottomrule\n",
      "\\end{tabular}\n",
      "\n"
     ]
    }
   ],
   "source": [
    "print df.to_latex(float_format=lambda x: '%.1f%%' % x)"
   ]
  },
  {
   "cell_type": "markdown",
   "metadata": {
    "collapsed": true
   },
   "source": [
    "## Get Some Handy Stats"
   ]
  },
  {
   "cell_type": "code",
   "execution_count": 17,
   "metadata": {
    "collapsed": false
   },
   "outputs": [],
   "source": [
    "rows = defaultdict(list)\n",
    "labels = []\n",
    "bl = get_blacklist()\n",
    "for dataset in datasets:\n",
    "    labels.append(ds_names[dataset])\n",
    "    fit_count = getattr(getattr(client, dataset), col).count({'_id': {'$nin': bl}})\n",
    "    rows['Number of Alignments'].append(fit_count)\n",
    "    for col in cols[1:]:\n",
    "        assert fit_count == getattr(getattr(client, dataset), col).count({'_id': {'$nin': bl}})\n",
    "    aln_length = median([d['lf']['aln_length'] \n",
    "                         for d in getattr(getattr(client, dataset), cols[0]).find({'_id': {'$nin': bl}})])\n",
    "    rows['Median Alignment Length (nt)'].append(aln_length)"
   ]
  },
  {
   "cell_type": "code",
   "execution_count": 18,
   "metadata": {
    "collapsed": false
   },
   "outputs": [
    {
     "data": {
      "text/html": [
       "<div>\n",
       "<table border=\"1\" class=\"dataframe\">\n",
       "  <thead>\n",
       "    <tr style=\"text-align: right;\">\n",
       "      <th></th>\n",
       "      <th>Median Alignment Length (nt)</th>\n",
       "      <th>Number of Alignments</th>\n",
       "    </tr>\n",
       "  </thead>\n",
       "  <tbody>\n",
       "    <tr>\n",
       "      <th>Mammals</th>\n",
       "      <td>2256.0</td>\n",
       "      <td>4039</td>\n",
       "    </tr>\n",
       "    <tr>\n",
       "      <th>Ants</th>\n",
       "      <td>2257.5</td>\n",
       "      <td>2008</td>\n",
       "    </tr>\n",
       "    <tr>\n",
       "      <th>Vertebrates</th>\n",
       "      <td>2376.0</td>\n",
       "      <td>2008</td>\n",
       "    </tr>\n",
       "    <tr>\n",
       "      <th>Primate Introns</th>\n",
       "      <td>10113.0</td>\n",
       "      <td>10907</td>\n",
       "    </tr>\n",
       "  </tbody>\n",
       "</table>\n",
       "</div>"
      ],
      "text/plain": [
       "                 Median Alignment Length (nt)  Number of Alignments\n",
       "Mammals                                2256.0                  4039\n",
       "Ants                                   2257.5                  2008\n",
       "Vertebrates                            2376.0                  2008\n",
       "Primate Introns                       10113.0                 10907"
      ]
     },
     "execution_count": 18,
     "metadata": {},
     "output_type": "execute_result"
    }
   ],
   "source": [
    "df = DataFrame(rows, index=labels)\n",
    "df"
   ]
  },
  {
   "cell_type": "code",
   "execution_count": 19,
   "metadata": {
    "collapsed": false
   },
   "outputs": [
    {
     "name": "stdout",
     "output_type": "stream",
     "text": [
      "\\begin{tabular}{lrr}\n",
      "\\toprule\n",
      "{} &  Median Alignment Length (nt) &  Number of Alignments \\\\\n",
      "\\midrule\n",
      "Mammals         &                        2256.0 &                  4039 \\\\\n",
      "Ants            &                        2257.5 &                  2008 \\\\\n",
      "Vertebrates     &                        2376.0 &                  2008 \\\\\n",
      "Primate Introns &                       10113.0 &                 10907 \\\\\n",
      "\\bottomrule\n",
      "\\end{tabular}\n",
      "\n"
     ]
    }
   ],
   "source": [
    "print df.to_latex()"
   ]
  },
  {
   "cell_type": "code",
   "execution_count": 20,
   "metadata": {
    "collapsed": false
   },
   "outputs": [
    {
     "data": {
      "text/html": [
       "<div>\n",
       "<table border=\"1\" class=\"dataframe\">\n",
       "  <thead>\n",
       "    <tr style=\"text-align: right;\">\n",
       "      <th></th>\n",
       "      <th>GNC</th>\n",
       "      <th>CNFGTR</th>\n",
       "      <th>Y98</th>\n",
       "    </tr>\n",
       "  </thead>\n",
       "  <tbody>\n",
       "    <tr>\n",
       "      <th>Mammals</th>\n",
       "      <td>0</td>\n",
       "      <td>1</td>\n",
       "      <td>9</td>\n",
       "    </tr>\n",
       "    <tr>\n",
       "      <th>Ants</th>\n",
       "      <td>0</td>\n",
       "      <td>0</td>\n",
       "      <td>0</td>\n",
       "    </tr>\n",
       "    <tr>\n",
       "      <th>Vertebrates</th>\n",
       "      <td>0</td>\n",
       "      <td>668</td>\n",
       "      <td>1109</td>\n",
       "    </tr>\n",
       "  </tbody>\n",
       "</table>\n",
       "</div>"
      ],
      "text/plain": [
       "             GNC  CNFGTR   Y98\n",
       "Mammals        0       1     9\n",
       "Ants           0       0     0\n",
       "Vertebrates    0     668  1109"
      ]
     },
     "execution_count": 20,
     "metadata": {},
     "output_type": "execute_result"
    }
   ],
   "source": [
    "rows = defaultdict(list)\n",
    "for label in labels[:-1]:\n",
    "    for col in cols:\n",
    "        rows[col].append(len(sat[label][col]))\n",
    "df = DataFrame(rows, index=labels[:-1], columns=['GNC', 'CNFGTR', 'Y98'])\n",
    "df"
   ]
  },
  {
   "cell_type": "code",
   "execution_count": 21,
   "metadata": {
    "collapsed": false
   },
   "outputs": [
    {
     "name": "stdout",
     "output_type": "stream",
     "text": [
      "\\begin{tabular}{lrrr}\n",
      "\\toprule\n",
      "{} &  GNC &  CNFGTR &   Y98 \\\\\n",
      "\\midrule\n",
      "Mammals     &    0 &       1 &     9 \\\\\n",
      "Ants        &    0 &       0 &     0 \\\\\n",
      "Vertebrates &    0 &     668 &  1109 \\\\\n",
      "\\bottomrule\n",
      "\\end{tabular}\n",
      "\n"
     ]
    }
   ],
   "source": [
    "print df.to_latex()"
   ]
  },
  {
   "cell_type": "code",
   "execution_count": 22,
   "metadata": {
    "collapsed": false
   },
   "outputs": [
    {
     "data": {
      "text/html": [
       "<div>\n",
       "<table border=\"1\" class=\"dataframe\">\n",
       "  <thead>\n",
       "    <tr style=\"text-align: right;\">\n",
       "      <th></th>\n",
       "      <th>GNC</th>\n",
       "      <th>CNFGTR</th>\n",
       "      <th>Y98</th>\n",
       "    </tr>\n",
       "  </thead>\n",
       "  <tbody>\n",
       "    <tr>\n",
       "      <th>Mammals</th>\n",
       "      <td>3924</td>\n",
       "      <td>218</td>\n",
       "      <td>206</td>\n",
       "    </tr>\n",
       "    <tr>\n",
       "      <th>Ants</th>\n",
       "      <td>1898</td>\n",
       "      <td>64</td>\n",
       "      <td>59</td>\n",
       "    </tr>\n",
       "    <tr>\n",
       "      <th>Vertebrates</th>\n",
       "      <td>1995</td>\n",
       "      <td>21</td>\n",
       "      <td>22</td>\n",
       "    </tr>\n",
       "    <tr>\n",
       "      <th>Primate Introns</th>\n",
       "      <td>3901</td>\n",
       "      <td>271</td>\n",
       "      <td>264</td>\n",
       "    </tr>\n",
       "  </tbody>\n",
       "</table>\n",
       "</div>"
      ],
      "text/plain": [
       "                  GNC  CNFGTR  Y98\n",
       "Mammals          3924     218  206\n",
       "Ants             1898      64   59\n",
       "Vertebrates      1995      21   22\n",
       "Primate Introns  3901     271  264"
      ]
     },
     "execution_count": 22,
     "metadata": {},
     "output_type": "execute_result"
    }
   ],
   "source": [
    "rows = defaultdict(list)\n",
    "for label in labels:\n",
    "    for col in cols:\n",
    "        rows[col].append(len(hup[label][col]))\n",
    "df = DataFrame(rows, index=labels, columns=['GNC', 'CNFGTR', 'Y98'])\n",
    "df"
   ]
  },
  {
   "cell_type": "code",
   "execution_count": 24,
   "metadata": {
    "collapsed": false
   },
   "outputs": [
    {
     "name": "stdout",
     "output_type": "stream",
     "text": [
      "Mammals 4039\n",
      "Ants 2023\n",
      "Vertebrates 2008\n",
      "Primate Introns 10907\n"
     ]
    }
   ],
   "source": [
    "for dataset in datasets:\n",
    "    print ds_names[dataset], sum(d['aln'].count('>') == 3 \n",
    "                                 for d in getattr(client, dataset).data.find({'_id': {'$nin': bl}}))"
   ]
  },
  {
   "cell_type": "code",
   "execution_count": 26,
   "metadata": {
    "collapsed": false
   },
   "outputs": [
    {
     "data": {
      "text/plain": [
       "15"
      ]
     },
     "execution_count": 26,
     "metadata": {},
     "output_type": "execute_result"
    }
   ],
   "source": [
    "len(list(client.ants.Y98.log.find({'level':'WARNING', '_id': {'$nin': bl}})))"
   ]
  },
  {
   "cell_type": "code",
   "execution_count": 28,
   "metadata": {
    "collapsed": false
   },
   "outputs": [
    {
     "data": {
      "text/plain": [
       "2008"
      ]
     },
     "execution_count": 28,
     "metadata": {},
     "output_type": "execute_result"
    }
   ],
   "source": [
    "2023-15"
   ]
  },
  {
   "cell_type": "code",
   "execution_count": null,
   "metadata": {
    "collapsed": true
   },
   "outputs": [],
   "source": []
  }
 ],
 "metadata": {
  "kernelspec": {
   "display_name": "Python 2",
   "language": "python",
   "name": "python2"
  },
  "language_info": {
   "codemirror_mode": {
    "name": "ipython",
    "version": 2
   },
   "file_extension": ".py",
   "mimetype": "text/x-python",
   "name": "python",
   "nbconvert_exporter": "python",
   "pygments_lexer": "ipython2",
   "version": "2.7.11"
  }
 },
 "nbformat": 4,
 "nbformat_minor": 0
}
