{
 "cells": [
  {
   "cell_type": "markdown",
   "metadata": {},
   "source": [
    "# Generate Comparative AIC Table\n",
    "### Setup "
   ]
  },
  {
   "cell_type": "code",
   "execution_count": 12,
   "metadata": {
    "collapsed": false
   },
   "outputs": [],
   "source": [
    "from __future__ import division\n",
    "\n",
    "from collections import defaultdict, Counter\n",
    "from json import dumps\n",
    "\n",
    "from pymongo import MongoClient\n",
    "from pandas import DataFrame\n",
    "from IPython.display import Markdown, display\n",
    "from numpy import median, array, exp"
   ]
  },
  {
   "cell_type": "markdown",
   "metadata": {},
   "source": [
    "### Utility"
   ]
  },
  {
   "cell_type": "code",
   "execution_count": 2,
   "metadata": {
    "collapsed": false
   },
   "outputs": [],
   "source": [
    "def get_saturated(col):\n",
    "    return [d['_id'] for d in col.find() if max(d['lf']['params']['length'].values()) > 10.-1e-4]\n",
    "\n",
    "def get_hard_up(col):\n",
    "    return [d['_id'] for d in col.find() if d['lf']['hard_up']]\n",
    "\n",
    "def get_aic(col):\n",
    "    df = col.find_one()['lf']['df']\n",
    "    return {d['_id']:2*df - 2*d['lf']['ll'] for d in col.find()}    \n",
    "\n",
    "def confidence_set(aics, p=0.95):\n",
    "    models, aics = zip(*aics)\n",
    "    aics = array(aics)\n",
    "    aic_diffs = aics - aics.min()\n",
    "    model_likelihoods = exp(-aic_diffs/2.)\n",
    "    akaike_weights = model_likelihoods / model_likelihoods.sum()\n",
    "    cum_prob = 0.\n",
    "    result = {}\n",
    "    for weight, model in sorted(zip(akaike_weights, models))[::-1]:\n",
    "        cum_prob += weight\n",
    "        result[model] = cum_prob\n",
    "        if cum_prob > p:\n",
    "            break\n",
    "    return result\n",
    "\n",
    "def print_logs(log,  level='INFO'):\n",
    "    printmd('##### ' + log.name)\n",
    "    for d in log.find({'level':level}):\n",
    "        printmd(dumps(d['message']))\n",
    "        \n",
    "def printmd(string):\n",
    "    ''' thanks http://stackoverflow.com/questions/32026727/format-output-of-code-cell-with-markdown '''\n",
    "    display(Markdown(string))"
   ]
  },
  {
   "cell_type": "markdown",
   "metadata": {},
   "source": [
    "### Load the Data"
   ]
  },
  {
   "cell_type": "code",
   "execution_count": 3,
   "metadata": {
    "collapsed": true
   },
   "outputs": [],
   "source": [
    "client = MongoClient()"
   ]
  },
  {
   "cell_type": "code",
   "execution_count": 4,
   "metadata": {
    "collapsed": false
   },
   "outputs": [
    {
     "data": {
      "text/markdown": [
       "#### Mammals"
      ],
      "text/plain": [
       "<IPython.core.display.Markdown object>"
      ]
     },
     "metadata": {},
     "output_type": "display_data"
    },
    {
     "data": {
      "text/markdown": [
       "##### data.log"
      ],
      "text/plain": [
       "<IPython.core.display.Markdown object>"
      ]
     },
     "metadata": {},
     "output_type": "display_data"
    },
    {
     "data": {
      "text/markdown": [
       "{\"input_directory\": \"/short/xe9/bdk248/data/mammals\", \"log_level\": \"DEBUG\", \"output_collection\": \"mammals.data\", \"tree_file\": \"../config/mammals.nwk\", \"db_host\": \"r2081\", \"aln_length\": 1500, \"log_name\": \"log\", \"codon_position\": -1}"
      ],
      "text/plain": [
       "<IPython.core.display.Markdown object>"
      ]
     },
     "metadata": {},
     "output_type": "display_data"
    },
    {
     "data": {
      "text/markdown": [
       "{\"mong\": \"0.0.10-dev\", \"cogent\": \"1.5.3-dev\", \"masterslave\": \"0.0.10-dev\", \"consume\": \"0.0.5-dev\", \"monglog\": \"0.0.1-dev\"}"
      ],
      "text/plain": [
       "<IPython.core.display.Markdown object>"
      ]
     },
     "metadata": {},
     "output_type": "display_data"
    },
    {
     "data": {
      "text/markdown": [
       "##### GNC.log"
      ],
      "text/plain": [
       "<IPython.core.display.Markdown object>"
      ]
     },
     "metadata": {},
     "output_type": "display_data"
    },
    {
     "data": {
      "text/markdown": [
       "{\"function\": \"ml.ml\", \"start_over\": true, \"log_level\": \"DEBUG\", \"no_mpi_main_loop\": false, \"kwargs_file\": \"../config/GNC.json\", \"input_collection\": \"mammals.data\", \"output_collection\": \"mammals.GNC\", \"output_collections_file\": null, \"output_collections\": [\"mammals.GNC\"], \"db_host\": \"r2081\", \"input_collections_file\": null, \"kwargs\": {\"model\": \"GNC\"}, \"log_name\": \"log\", \"input_collections\": [\"mammals.data\"]}"
      ],
      "text/plain": [
       "<IPython.core.display.Markdown object>"
      ]
     },
     "metadata": {},
     "output_type": "display_data"
    },
    {
     "data": {
      "text/markdown": [
       "{\"mong\": \"0.0.10-dev\", \"monglog\": \"0.0.1-dev\", \"map_collection\": \"0.0.8-dev\", \"masterslave\": \"0.0.10-dev\", \"ml\": \"0.0.11-dev\"}"
      ],
      "text/plain": [
       "<IPython.core.display.Markdown object>"
      ]
     },
     "metadata": {},
     "output_type": "display_data"
    },
    {
     "data": {
      "text/markdown": [
       "##### Y98.log"
      ],
      "text/plain": [
       "<IPython.core.display.Markdown object>"
      ]
     },
     "metadata": {},
     "output_type": "display_data"
    },
    {
     "data": {
      "text/markdown": [
       "{\"function\": \"ml.ml\", \"start_over\": true, \"log_level\": \"DEBUG\", \"no_mpi_main_loop\": false, \"kwargs_file\": \"../config/Y98.json\", \"input_collection\": \"mammals.data\", \"output_collection\": \"mammals.Y98\", \"output_collections_file\": null, \"output_collections\": [\"mammals.Y98\"], \"db_host\": \"r2081\", \"input_collections_file\": null, \"kwargs\": {\"model\": \"Y98\"}, \"log_name\": \"log\", \"input_collections\": [\"mammals.data\"]}"
      ],
      "text/plain": [
       "<IPython.core.display.Markdown object>"
      ]
     },
     "metadata": {},
     "output_type": "display_data"
    },
    {
     "data": {
      "text/markdown": [
       "{\"mong\": \"0.0.10-dev\", \"monglog\": \"0.0.1-dev\", \"map_collection\": \"0.0.8-dev\", \"masterslave\": \"0.0.10-dev\", \"ml\": \"0.0.11-dev\"}"
      ],
      "text/plain": [
       "<IPython.core.display.Markdown object>"
      ]
     },
     "metadata": {},
     "output_type": "display_data"
    },
    {
     "data": {
      "text/markdown": [
       "##### CNFGTR.log"
      ],
      "text/plain": [
       "<IPython.core.display.Markdown object>"
      ]
     },
     "metadata": {},
     "output_type": "display_data"
    },
    {
     "data": {
      "text/markdown": [
       "{\"function\": \"ml.ml\", \"start_over\": false, \"log_level\": \"DEBUG\", \"no_mpi_main_loop\": false, \"kwargs_file\": \"../config/CNFGTR.json\", \"input_collection\": \"mammals.data\", \"output_collection\": \"mammals.CNFGTR\", \"output_collections_file\": null, \"output_collections\": [\"mammals.CNFGTR\"], \"db_host\": \"r2081\", \"input_collections_file\": null, \"kwargs\": {\"model\": \"CNFGTR\"}, \"log_name\": \"log\", \"input_collections\": [\"mammals.data\"]}"
      ],
      "text/plain": [
       "<IPython.core.display.Markdown object>"
      ]
     },
     "metadata": {},
     "output_type": "display_data"
    },
    {
     "data": {
      "text/markdown": [
       "{\"mong\": \"0.0.10-dev\", \"monglog\": \"0.0.1-dev\", \"map_collection\": \"0.0.8-dev\", \"masterslave\": \"0.0.10-dev\", \"ml\": \"0.0.11-dev\"}"
      ],
      "text/plain": [
       "<IPython.core.display.Markdown object>"
      ]
     },
     "metadata": {},
     "output_type": "display_data"
    },
    {
     "data": {
      "text/markdown": [
       "#### Ants"
      ],
      "text/plain": [
       "<IPython.core.display.Markdown object>"
      ]
     },
     "metadata": {},
     "output_type": "display_data"
    },
    {
     "data": {
      "text/markdown": [
       "##### data.log"
      ],
      "text/plain": [
       "<IPython.core.display.Markdown object>"
      ]
     },
     "metadata": {},
     "output_type": "display_data"
    },
    {
     "data": {
      "text/markdown": [
       "{\"input_directory\": \"/short/xe9/bdk248/../data/ants\", \"log_level\": \"DEBUG\", \"output_collection\": \"ants.data\", \"tree_file\": \"../config/ants.nwk\", \"db_host\": \"r2081\", \"aln_length\": 1500, \"log_name\": \"log\", \"codon_position\": -1}"
      ],
      "text/plain": [
       "<IPython.core.display.Markdown object>"
      ]
     },
     "metadata": {},
     "output_type": "display_data"
    },
    {
     "data": {
      "text/markdown": [
       "{\"mong\": \"0.0.10-dev\", \"cogent\": \"1.5.3-dev\", \"masterslave\": \"0.0.10-dev\", \"consume\": \"0.0.5-dev\", \"monglog\": \"0.0.1-dev\"}"
      ],
      "text/plain": [
       "<IPython.core.display.Markdown object>"
      ]
     },
     "metadata": {},
     "output_type": "display_data"
    },
    {
     "data": {
      "text/markdown": [
       "##### GNC.log"
      ],
      "text/plain": [
       "<IPython.core.display.Markdown object>"
      ]
     },
     "metadata": {},
     "output_type": "display_data"
    },
    {
     "data": {
      "text/markdown": [
       "{\"function\": \"ml.ml\", \"start_over\": true, \"log_level\": \"DEBUG\", \"no_mpi_main_loop\": false, \"kwargs_file\": \"../config/GNC.json\", \"input_collection\": \"ants.data\", \"output_collection\": \"ants.GNC\", \"output_collections_file\": null, \"output_collections\": [\"ants.GNC\"], \"db_host\": \"r2081\", \"input_collections_file\": null, \"kwargs\": {\"model\": \"GNC\"}, \"log_name\": \"log\", \"input_collections\": [\"ants.data\"]}"
      ],
      "text/plain": [
       "<IPython.core.display.Markdown object>"
      ]
     },
     "metadata": {},
     "output_type": "display_data"
    },
    {
     "data": {
      "text/markdown": [
       "{\"mong\": \"0.0.10-dev\", \"monglog\": \"0.0.1-dev\", \"map_collection\": \"0.0.8-dev\", \"masterslave\": \"0.0.10-dev\", \"ml\": \"0.0.11-dev\"}"
      ],
      "text/plain": [
       "<IPython.core.display.Markdown object>"
      ]
     },
     "metadata": {},
     "output_type": "display_data"
    },
    {
     "data": {
      "text/markdown": [
       "##### Y98.log"
      ],
      "text/plain": [
       "<IPython.core.display.Markdown object>"
      ]
     },
     "metadata": {},
     "output_type": "display_data"
    },
    {
     "data": {
      "text/markdown": [
       "{\"function\": \"ml.ml\", \"start_over\": false, \"log_level\": \"DEBUG\", \"no_mpi_main_loop\": false, \"kwargs_file\": \"../config/Y98.json\", \"input_collection\": \"ants.data\", \"output_collection\": \"ants.Y98\", \"output_collections_file\": null, \"output_collections\": [\"ants.Y98\"], \"db_host\": \"r2081\", \"input_collections_file\": null, \"kwargs\": {\"model\": \"Y98\"}, \"log_name\": \"log\", \"input_collections\": [\"ants.data\"]}"
      ],
      "text/plain": [
       "<IPython.core.display.Markdown object>"
      ]
     },
     "metadata": {},
     "output_type": "display_data"
    },
    {
     "data": {
      "text/markdown": [
       "{\"mong\": \"0.0.10-dev\", \"monglog\": \"0.0.1-dev\", \"map_collection\": \"0.0.8-dev\", \"masterslave\": \"0.0.10-dev\", \"ml\": \"0.0.11-dev\"}"
      ],
      "text/plain": [
       "<IPython.core.display.Markdown object>"
      ]
     },
     "metadata": {},
     "output_type": "display_data"
    },
    {
     "data": {
      "text/markdown": [
       "##### CNFGTR.log"
      ],
      "text/plain": [
       "<IPython.core.display.Markdown object>"
      ]
     },
     "metadata": {},
     "output_type": "display_data"
    },
    {
     "data": {
      "text/markdown": [
       "{\"function\": \"ml.ml\", \"start_over\": true, \"log_level\": \"DEBUG\", \"no_mpi_main_loop\": false, \"kwargs_file\": \"../config/CNFGTR.json\", \"input_collection\": \"ants.data\", \"output_collection\": \"ants.CNFGTR\", \"output_collections_file\": null, \"output_collections\": [\"ants.CNFGTR\"], \"db_host\": \"r2081\", \"input_collections_file\": null, \"kwargs\": {\"model\": \"CNFGTR\"}, \"log_name\": \"log\", \"input_collections\": [\"ants.data\"]}"
      ],
      "text/plain": [
       "<IPython.core.display.Markdown object>"
      ]
     },
     "metadata": {},
     "output_type": "display_data"
    },
    {
     "data": {
      "text/markdown": [
       "{\"mong\": \"0.0.10-dev\", \"monglog\": \"0.0.1-dev\", \"map_collection\": \"0.0.8-dev\", \"masterslave\": \"0.0.10-dev\", \"ml\": \"0.0.11-dev\"}"
      ],
      "text/plain": [
       "<IPython.core.display.Markdown object>"
      ]
     },
     "metadata": {},
     "output_type": "display_data"
    },
    {
     "data": {
      "text/markdown": [
       "#### Vertebrates"
      ],
      "text/plain": [
       "<IPython.core.display.Markdown object>"
      ]
     },
     "metadata": {},
     "output_type": "display_data"
    },
    {
     "data": {
      "text/markdown": [
       "##### data.log"
      ],
      "text/plain": [
       "<IPython.core.display.Markdown object>"
      ]
     },
     "metadata": {},
     "output_type": "display_data"
    },
    {
     "data": {
      "text/markdown": [
       "{\"input_directory\": \"/short/xe9/bdk248/../data/hum_xen_fug\", \"log_level\": \"DEBUG\", \"output_collection\": \"hum_xen_fug.data\", \"tree_file\": \"../config/hum_xen_fug.nwk\", \"db_host\": \"r2081\", \"aln_length\": 1500, \"log_name\": \"log\", \"codon_position\": -1}"
      ],
      "text/plain": [
       "<IPython.core.display.Markdown object>"
      ]
     },
     "metadata": {},
     "output_type": "display_data"
    },
    {
     "data": {
      "text/markdown": [
       "{\"mong\": \"0.0.10-dev\", \"cogent\": \"1.5.3-dev\", \"masterslave\": \"0.0.10-dev\", \"consume\": \"0.0.5-dev\", \"monglog\": \"0.0.1-dev\"}"
      ],
      "text/plain": [
       "<IPython.core.display.Markdown object>"
      ]
     },
     "metadata": {},
     "output_type": "display_data"
    },
    {
     "data": {
      "text/markdown": [
       "##### GNC.log"
      ],
      "text/plain": [
       "<IPython.core.display.Markdown object>"
      ]
     },
     "metadata": {},
     "output_type": "display_data"
    },
    {
     "data": {
      "text/markdown": [
       "{\"function\": \"ml.ml\", \"start_over\": true, \"log_level\": \"DEBUG\", \"no_mpi_main_loop\": false, \"kwargs_file\": \"../config/GNC.json\", \"input_collection\": \"hum_xen_fug.data\", \"output_collection\": \"hum_xen_fug.GNC\", \"output_collections_file\": null, \"output_collections\": [\"hum_xen_fug.GNC\"], \"db_host\": \"r2081\", \"input_collections_file\": null, \"kwargs\": {\"model\": \"GNC\"}, \"log_name\": \"log\", \"input_collections\": [\"hum_xen_fug.data\"]}"
      ],
      "text/plain": [
       "<IPython.core.display.Markdown object>"
      ]
     },
     "metadata": {},
     "output_type": "display_data"
    },
    {
     "data": {
      "text/markdown": [
       "{\"mong\": \"0.0.10-dev\", \"monglog\": \"0.0.1-dev\", \"map_collection\": \"0.0.8-dev\", \"masterslave\": \"0.0.10-dev\", \"ml\": \"0.0.11-dev\"}"
      ],
      "text/plain": [
       "<IPython.core.display.Markdown object>"
      ]
     },
     "metadata": {},
     "output_type": "display_data"
    },
    {
     "data": {
      "text/markdown": [
       "##### Y98.log"
      ],
      "text/plain": [
       "<IPython.core.display.Markdown object>"
      ]
     },
     "metadata": {},
     "output_type": "display_data"
    },
    {
     "data": {
      "text/markdown": [
       "{\"function\": \"ml.ml\", \"start_over\": true, \"log_level\": \"DEBUG\", \"no_mpi_main_loop\": false, \"kwargs_file\": \"../config/Y98.json\", \"input_collection\": \"hum_xen_fug.data\", \"output_collection\": \"hum_xen_fug.Y98\", \"output_collections_file\": null, \"output_collections\": [\"hum_xen_fug.Y98\"], \"db_host\": \"r2081\", \"input_collections_file\": null, \"kwargs\": {\"model\": \"Y98\"}, \"log_name\": \"log\", \"input_collections\": [\"hum_xen_fug.data\"]}"
      ],
      "text/plain": [
       "<IPython.core.display.Markdown object>"
      ]
     },
     "metadata": {},
     "output_type": "display_data"
    },
    {
     "data": {
      "text/markdown": [
       "{\"mong\": \"0.0.10-dev\", \"monglog\": \"0.0.1-dev\", \"map_collection\": \"0.0.8-dev\", \"masterslave\": \"0.0.10-dev\", \"ml\": \"0.0.11-dev\"}"
      ],
      "text/plain": [
       "<IPython.core.display.Markdown object>"
      ]
     },
     "metadata": {},
     "output_type": "display_data"
    },
    {
     "data": {
      "text/markdown": [
       "##### CNFGTR.log"
      ],
      "text/plain": [
       "<IPython.core.display.Markdown object>"
      ]
     },
     "metadata": {},
     "output_type": "display_data"
    },
    {
     "data": {
      "text/markdown": [
       "{\"function\": \"ml.ml\", \"start_over\": true, \"log_level\": \"DEBUG\", \"no_mpi_main_loop\": false, \"kwargs_file\": \"../config/CNFGTR.json\", \"input_collection\": \"hum_xen_fug.data\", \"output_collection\": \"hum_xen_fug.CNFGTR\", \"output_collections_file\": null, \"output_collections\": [\"hum_xen_fug.CNFGTR\"], \"db_host\": \"r2081\", \"input_collections_file\": null, \"kwargs\": {\"model\": \"CNFGTR\"}, \"log_name\": \"log\", \"input_collections\": [\"hum_xen_fug.data\"]}"
      ],
      "text/plain": [
       "<IPython.core.display.Markdown object>"
      ]
     },
     "metadata": {},
     "output_type": "display_data"
    },
    {
     "data": {
      "text/markdown": [
       "{\"mong\": \"0.0.10-dev\", \"monglog\": \"0.0.1-dev\", \"map_collection\": \"0.0.8-dev\", \"masterslave\": \"0.0.10-dev\", \"ml\": \"0.0.11-dev\"}"
      ],
      "text/plain": [
       "<IPython.core.display.Markdown object>"
      ]
     },
     "metadata": {},
     "output_type": "display_data"
    },
    {
     "data": {
      "text/markdown": [
       "#### Primate Introns"
      ],
      "text/plain": [
       "<IPython.core.display.Markdown object>"
      ]
     },
     "metadata": {},
     "output_type": "display_data"
    },
    {
     "data": {
      "text/markdown": [
       "##### data.log"
      ],
      "text/plain": [
       "<IPython.core.display.Markdown object>"
      ]
     },
     "metadata": {},
     "output_type": "display_data"
    },
    {
     "data": {
      "text/markdown": [
       "{\"input_directory\": \"/short/xe9/bdk248/data/human_macaque_marmoset_introns/data/introns\", \"log_level\": \"DEBUG\", \"output_collection\": \"introns.data\", \"tree_file\": \"../config/introns.nwk\", \"db_host\": \"r2081\", \"aln_length\": 1500, \"log_name\": \"log\", \"codon_position\": -1}"
      ],
      "text/plain": [
       "<IPython.core.display.Markdown object>"
      ]
     },
     "metadata": {},
     "output_type": "display_data"
    },
    {
     "data": {
      "text/markdown": [
       "{\"mong\": \"0.0.10-dev\", \"cogent\": \"1.5.3-dev\", \"masterslave\": \"0.0.10-dev\", \"consume\": \"0.0.5-dev\", \"monglog\": \"0.0.1-dev\"}"
      ],
      "text/plain": [
       "<IPython.core.display.Markdown object>"
      ]
     },
     "metadata": {},
     "output_type": "display_data"
    },
    {
     "data": {
      "text/markdown": [
       "##### GNC.log"
      ],
      "text/plain": [
       "<IPython.core.display.Markdown object>"
      ]
     },
     "metadata": {},
     "output_type": "display_data"
    },
    {
     "data": {
      "text/markdown": [
       "{\"function\": \"ml.ml\", \"start_over\": true, \"log_level\": \"DEBUG\", \"no_mpi_main_loop\": false, \"kwargs_file\": \"../config/GNC_no_stop.json\", \"input_collection\": \"introns.data\", \"output_collection\": \"introns.GNC\", \"output_collections_file\": null, \"output_collections\": [\"introns.GNC\"], \"db_host\": \"r2081\", \"input_collections_file\": null, \"kwargs\": {\"model\": \"GNC\", \"gc\": \"FFLLSSSSYYZOCCUWLLLLPPPPHHQQRRRRIIIMTTTTNNKKSSRRVVVVAAAADDEEGGGG\"}, \"log_name\": \"log\", \"input_collections\": [\"introns.data\"]}"
      ],
      "text/plain": [
       "<IPython.core.display.Markdown object>"
      ]
     },
     "metadata": {},
     "output_type": "display_data"
    },
    {
     "data": {
      "text/markdown": [
       "{\"mong\": \"0.0.10-dev\", \"monglog\": \"0.0.1-dev\", \"map_collection\": \"0.0.8-dev\", \"masterslave\": \"0.0.10-dev\", \"ml\": \"0.0.11-dev\"}"
      ],
      "text/plain": [
       "<IPython.core.display.Markdown object>"
      ]
     },
     "metadata": {},
     "output_type": "display_data"
    },
    {
     "data": {
      "text/markdown": [
       "##### Y98.log"
      ],
      "text/plain": [
       "<IPython.core.display.Markdown object>"
      ]
     },
     "metadata": {},
     "output_type": "display_data"
    },
    {
     "data": {
      "text/markdown": [
       "{\"function\": \"ml.ml\", \"start_over\": false, \"log_level\": \"DEBUG\", \"no_mpi_main_loop\": false, \"kwargs_file\": \"../config/Y98_no_stop.json\", \"input_collection\": \"introns.data\", \"output_collection\": \"introns.Y98\", \"output_collections_file\": null, \"output_collections\": [\"introns.Y98\"], \"db_host\": \"r2081\", \"input_collections_file\": null, \"kwargs\": {\"model\": \"Y98\", \"gc\": \"FFLLSSSSYYZOCCUWLLLLPPPPHHQQRRRRIIIMTTTTNNKKSSRRVVVVAAAADDEEGGGG\"}, \"log_name\": \"log\", \"input_collections\": [\"introns.data\"]}"
      ],
      "text/plain": [
       "<IPython.core.display.Markdown object>"
      ]
     },
     "metadata": {},
     "output_type": "display_data"
    },
    {
     "data": {
      "text/markdown": [
       "{\"mong\": \"0.0.10-dev\", \"monglog\": \"0.0.1-dev\", \"map_collection\": \"0.0.8-dev\", \"masterslave\": \"0.0.10-dev\", \"ml\": \"0.0.11-dev\"}"
      ],
      "text/plain": [
       "<IPython.core.display.Markdown object>"
      ]
     },
     "metadata": {},
     "output_type": "display_data"
    },
    {
     "data": {
      "text/markdown": [
       "##### CNFGTR.log"
      ],
      "text/plain": [
       "<IPython.core.display.Markdown object>"
      ]
     },
     "metadata": {},
     "output_type": "display_data"
    },
    {
     "data": {
      "text/markdown": [
       "{\"function\": \"ml.ml\", \"start_over\": true, \"log_level\": \"DEBUG\", \"no_mpi_main_loop\": false, \"kwargs_file\": \"../config/CNFGTR_no_stop.json\", \"input_collection\": \"introns.data\", \"output_collection\": \"introns.CNFGTR\", \"output_collections_file\": null, \"output_collections\": [\"introns.CNFGTR\"], \"db_host\": \"r2081\", \"input_collections_file\": null, \"kwargs\": {\"model\": \"CNFGTR\", \"gc\": \"FFLLSSSSYYZOCCUWLLLLPPPPHHQQRRRRIIIMTTTTNNKKSSRRVVVVAAAADDEEGGGG\"}, \"log_name\": \"log\", \"input_collections\": [\"introns.data\"]}"
      ],
      "text/plain": [
       "<IPython.core.display.Markdown object>"
      ]
     },
     "metadata": {},
     "output_type": "display_data"
    },
    {
     "data": {
      "text/markdown": [
       "{\"mong\": \"0.0.10-dev\", \"monglog\": \"0.0.1-dev\", \"map_collection\": \"0.0.8-dev\", \"masterslave\": \"0.0.10-dev\", \"ml\": \"0.0.11-dev\"}"
      ],
      "text/plain": [
       "<IPython.core.display.Markdown object>"
      ]
     },
     "metadata": {},
     "output_type": "display_data"
    },
    {
     "data": {
      "text/markdown": [
       "{\"function\": \"ml.ml\", \"start_over\": false, \"log_level\": \"DEBUG\", \"no_mpi_main_loop\": false, \"kwargs_file\": \"../config/CNFGTR_no_stop.json\", \"input_collection\": \"introns.data\", \"output_collection\": \"introns.CNFGTR\", \"output_collections_file\": null, \"output_collections\": [\"introns.CNFGTR\"], \"db_host\": \"r2081\", \"input_collections_file\": null, \"kwargs\": {\"model\": \"CNFGTR\", \"gc\": \"FFLLSSSSYYZOCCUWLLLLPPPPHHQQRRRRIIIMTTTTNNKKSSRRVVVVAAAADDEEGGGG\"}, \"log_name\": \"log\", \"input_collections\": [\"introns.data\"]}"
      ],
      "text/plain": [
       "<IPython.core.display.Markdown object>"
      ]
     },
     "metadata": {},
     "output_type": "display_data"
    },
    {
     "data": {
      "text/markdown": [
       "{\"mong\": \"0.0.10-dev\", \"monglog\": \"0.0.1-dev\", \"map_collection\": \"0.0.8-dev\", \"masterslave\": \"0.0.10-dev\", \"ml\": \"0.0.11-dev\"}"
      ],
      "text/plain": [
       "<IPython.core.display.Markdown object>"
      ]
     },
     "metadata": {},
     "output_type": "display_data"
    }
   ],
   "source": [
    "cols = ['GNC', 'Y98', 'CNFGTR']\n",
    "datasets = ['mammals', 'ants', 'hum_xen_fug', 'introns']\n",
    "ds_names = {'mammals' : 'Mammals',\n",
    "            'ants' : 'Ants',\n",
    "            'hum_xen_fug' : 'Vertebrates',\n",
    "            'introns' : 'Primate Introns'}\n",
    "for dataset in datasets:\n",
    "    printmd('#### ' + ds_names[dataset])\n",
    "    for col in ['data'] + cols:\n",
    "        print_logs(getattr(getattr(client, dataset), col + '.log'))"
   ]
  },
  {
   "cell_type": "code",
   "execution_count": 5,
   "metadata": {
    "collapsed": false
   },
   "outputs": [],
   "source": [
    "aic = defaultdict(dict)\n",
    "sat = defaultdict(dict)\n",
    "hup = defaultdict(dict)\n",
    "for dataset in datasets:\n",
    "    for col in cols:\n",
    "        actual_col = getattr(getattr(client, dataset), col)\n",
    "        aic[ds_names[dataset]][col] = get_aic(actual_col)\n",
    "        sat[ds_names[dataset]][col] = set(get_saturated(actual_col))\n",
    "        hup[ds_names[dataset]][col] = set(get_hard_up(actual_col))"
   ]
  },
  {
   "cell_type": "markdown",
   "metadata": {},
   "source": [
    "### Display the AIC Winners Table"
   ]
  },
  {
   "cell_type": "code",
   "execution_count": 23,
   "metadata": {
    "collapsed": false
   },
   "outputs": [],
   "source": [
    "rows = defaultdict(list)\n",
    "labels = []\n",
    "for dataset in datasets:\n",
    "    labels.append(ds_names[dataset])\n",
    "    models = aic[labels[-1]]\n",
    "    \n",
    "    score = Counter()\n",
    "    for tag in models.values()[0]:\n",
    "        scores = [(models[m][tag], m) for m in models]\n",
    "        score[min(scores)[1]] += 1\n",
    "    for model, count in score.items():\n",
    "        rows[model].append(count)"
   ]
  },
  {
   "cell_type": "code",
   "execution_count": 24,
   "metadata": {
    "collapsed": false
   },
   "outputs": [
    {
     "data": {
      "text/html": [
       "<div>\n",
       "<table border=\"1\" class=\"dataframe\">\n",
       "  <thead>\n",
       "    <tr style=\"text-align: right;\">\n",
       "      <th></th>\n",
       "      <th>GNC</th>\n",
       "      <th>CNFGTR</th>\n",
       "      <th>Y98</th>\n",
       "    </tr>\n",
       "  </thead>\n",
       "  <tbody>\n",
       "    <tr>\n",
       "      <th>Mammals</th>\n",
       "      <td>59.879518</td>\n",
       "      <td>37.734940</td>\n",
       "      <td>2.385542</td>\n",
       "    </tr>\n",
       "    <tr>\n",
       "      <th>Ants</th>\n",
       "      <td>79.197623</td>\n",
       "      <td>16.344725</td>\n",
       "      <td>4.457652</td>\n",
       "    </tr>\n",
       "    <tr>\n",
       "      <th>Vertebrates</th>\n",
       "      <td>55.245958</td>\n",
       "      <td>36.360509</td>\n",
       "      <td>8.393533</td>\n",
       "    </tr>\n",
       "    <tr>\n",
       "      <th>Primate Introns</th>\n",
       "      <td>91.399663</td>\n",
       "      <td>8.071440</td>\n",
       "      <td>0.528898</td>\n",
       "    </tr>\n",
       "  </tbody>\n",
       "</table>\n",
       "</div>"
      ],
      "text/plain": [
       "                       GNC     CNFGTR       Y98\n",
       "Mammals          59.879518  37.734940  2.385542\n",
       "Ants             79.197623  16.344725  4.457652\n",
       "Vertebrates      55.245958  36.360509  8.393533\n",
       "Primate Introns  91.399663   8.071440  0.528898"
      ]
     },
     "execution_count": 24,
     "metadata": {},
     "output_type": "execute_result"
    }
   ],
   "source": [
    "df = DataFrame(rows, index=labels, columns=['GNC', 'CNFGTR', 'Y98'])\n",
    "df = df.div(df.sum(1), axis=0)*100\n",
    "df"
   ]
  },
  {
   "cell_type": "code",
   "execution_count": 25,
   "metadata": {
    "collapsed": false
   },
   "outputs": [
    {
     "name": "stdout",
     "output_type": "stream",
     "text": [
      "\\begin{tabular}{lrrr}\n",
      "\\toprule\n",
      "{} &   GNC &  CNFGTR &  Y98 \\\\\n",
      "\\midrule\n",
      "Mammals         & 59.9\\% &   37.7\\% & 2.4\\% \\\\\n",
      "Ants            & 79.2\\% &   16.3\\% & 4.5\\% \\\\\n",
      "Vertebrates     & 55.2\\% &   36.4\\% & 8.4\\% \\\\\n",
      "Primate Introns & 91.4\\% &    8.1\\% & 0.5\\% \\\\\n",
      "\\bottomrule\n",
      "\\end{tabular}\n",
      "\n"
     ]
    }
   ],
   "source": [
    "print df.to_latex(float_format=lambda x: '%.1f%%' % x)"
   ]
  },
  {
   "cell_type": "markdown",
   "metadata": {},
   "source": [
    "### Display the AIC CI Membership Table"
   ]
  },
  {
   "cell_type": "code",
   "execution_count": 26,
   "metadata": {
    "collapsed": false
   },
   "outputs": [],
   "source": [
    "rows = defaultdict(list)\n",
    "labels = []\n",
    "for dataset in datasets:\n",
    "    labels.append(ds_names[dataset])\n",
    "    models = aic[labels[-1]]\n",
    "    \n",
    "    score = Counter()\n",
    "    for tag in models.values()[0]:\n",
    "        scores = [(m, models[m][tag]) for m in models]\n",
    "        ci = confidence_set(scores)\n",
    "        for model in ci.keys():\n",
    "            score[model] += 1\n",
    "    for model, count in score.items():\n",
    "        rows[model].append(count/len(models.values()[0])*100)"
   ]
  },
  {
   "cell_type": "code",
   "execution_count": 27,
   "metadata": {
    "collapsed": false
   },
   "outputs": [
    {
     "data": {
      "text/html": [
       "<div>\n",
       "<table border=\"1\" class=\"dataframe\">\n",
       "  <thead>\n",
       "    <tr style=\"text-align: right;\">\n",
       "      <th></th>\n",
       "      <th>GNC</th>\n",
       "      <th>CNFGTR</th>\n",
       "      <th>Y98</th>\n",
       "    </tr>\n",
       "  </thead>\n",
       "  <tbody>\n",
       "    <tr>\n",
       "      <th>Mammals</th>\n",
       "      <td>63.975904</td>\n",
       "      <td>43.542169</td>\n",
       "      <td>4.602410</td>\n",
       "    </tr>\n",
       "    <tr>\n",
       "      <th>Ants</th>\n",
       "      <td>82.664685</td>\n",
       "      <td>21.297672</td>\n",
       "      <td>7.082714</td>\n",
       "    </tr>\n",
       "    <tr>\n",
       "      <th>Vertebrates</th>\n",
       "      <td>57.860337</td>\n",
       "      <td>40.454076</td>\n",
       "      <td>12.177503</td>\n",
       "    </tr>\n",
       "    <tr>\n",
       "      <th>Primate Introns</th>\n",
       "      <td>93.890848</td>\n",
       "      <td>10.884562</td>\n",
       "      <td>1.241760</td>\n",
       "    </tr>\n",
       "  </tbody>\n",
       "</table>\n",
       "</div>"
      ],
      "text/plain": [
       "                       GNC     CNFGTR        Y98\n",
       "Mammals          63.975904  43.542169   4.602410\n",
       "Ants             82.664685  21.297672   7.082714\n",
       "Vertebrates      57.860337  40.454076  12.177503\n",
       "Primate Introns  93.890848  10.884562   1.241760"
      ]
     },
     "execution_count": 27,
     "metadata": {},
     "output_type": "execute_result"
    }
   ],
   "source": [
    "df = DataFrame(rows, index=labels, columns=['GNC', 'CNFGTR', 'Y98'])\n",
    "df"
   ]
  },
  {
   "cell_type": "code",
   "execution_count": 28,
   "metadata": {
    "collapsed": false
   },
   "outputs": [
    {
     "name": "stdout",
     "output_type": "stream",
     "text": [
      "\\begin{tabular}{lrrr}\n",
      "\\toprule\n",
      "{} &   GNC &  CNFGTR &   Y98 \\\\\n",
      "\\midrule\n",
      "Mammals         & 64.0\\% &   43.5\\% &  4.6\\% \\\\\n",
      "Ants            & 82.7\\% &   21.3\\% &  7.1\\% \\\\\n",
      "Vertebrates     & 57.9\\% &   40.5\\% & 12.2\\% \\\\\n",
      "Primate Introns & 93.9\\% &   10.9\\% &  1.2\\% \\\\\n",
      "\\bottomrule\n",
      "\\end{tabular}\n",
      "\n"
     ]
    }
   ],
   "source": [
    "print df.to_latex(float_format=lambda x: '%.1f%%' % x)"
   ]
  },
  {
   "cell_type": "markdown",
   "metadata": {
    "collapsed": true
   },
   "source": [
    "## Get Some Handy Stats"
   ]
  },
  {
   "cell_type": "code",
   "execution_count": 22,
   "metadata": {
    "collapsed": false
   },
   "outputs": [],
   "source": [
    "rows = defaultdict(list)\n",
    "labels = []\n",
    "for dataset in datasets:\n",
    "    labels.append(ds_names[dataset])\n",
    "    fit_count = getattr(getattr(client, dataset), col).count()\n",
    "    rows['Number of Alignments'].append(fit_count)\n",
    "    for col in cols[1:]:\n",
    "        assert fit_count == getattr(getattr(client, dataset), col).count()\n",
    "    aln_length = median([d['lf']['aln_length'] for d in getattr(getattr(client, dataset), cols[0]).find()])\n",
    "    rows['Median Alignment Length (nt)'].append(aln_length)"
   ]
  },
  {
   "cell_type": "code",
   "execution_count": 23,
   "metadata": {
    "collapsed": false
   },
   "outputs": [
    {
     "data": {
      "text/html": [
       "<div>\n",
       "<table border=\"1\" class=\"dataframe\">\n",
       "  <thead>\n",
       "    <tr style=\"text-align: right;\">\n",
       "      <th></th>\n",
       "      <th>Median Alignment Length (nt)</th>\n",
       "      <th>Number of Alignments</th>\n",
       "    </tr>\n",
       "  </thead>\n",
       "  <tbody>\n",
       "    <tr>\n",
       "      <th>Mammals</th>\n",
       "      <td>2247</td>\n",
       "      <td>4150</td>\n",
       "    </tr>\n",
       "    <tr>\n",
       "      <th>Ants</th>\n",
       "      <td>2256</td>\n",
       "      <td>2019</td>\n",
       "    </tr>\n",
       "    <tr>\n",
       "      <th>Vertebrates</th>\n",
       "      <td>2241</td>\n",
       "      <td>2907</td>\n",
       "    </tr>\n",
       "    <tr>\n",
       "      <th>Primate Introns</th>\n",
       "      <td>11130</td>\n",
       "      <td>13046</td>\n",
       "    </tr>\n",
       "  </tbody>\n",
       "</table>\n",
       "</div>"
      ],
      "text/plain": [
       "                 Median Alignment Length (nt)  Number of Alignments\n",
       "Mammals                                  2247                  4150\n",
       "Ants                                     2256                  2019\n",
       "Vertebrates                              2241                  2907\n",
       "Primate Introns                         11130                 13046"
      ]
     },
     "execution_count": 23,
     "metadata": {},
     "output_type": "execute_result"
    }
   ],
   "source": [
    "df = DataFrame(rows, index=labels)\n",
    "df"
   ]
  },
  {
   "cell_type": "code",
   "execution_count": 24,
   "metadata": {
    "collapsed": false
   },
   "outputs": [
    {
     "name": "stdout",
     "output_type": "stream",
     "text": [
      "\\begin{tabular}{lrr}\n",
      "\\toprule\n",
      "{} &  Median Alignment Length (nt) &  Number of Alignments \\\\\n",
      "\\midrule\n",
      "Mammals         &                          2247 &                  4150 \\\\\n",
      "Ants            &                          2256 &                  2019 \\\\\n",
      "Vertebrates     &                          2241 &                  2907 \\\\\n",
      "Primate Introns &                         11130 &                 13046 \\\\\n",
      "\\bottomrule\n",
      "\\end{tabular}\n",
      "\n"
     ]
    }
   ],
   "source": [
    "print df.to_latex()"
   ]
  },
  {
   "cell_type": "code",
   "execution_count": 25,
   "metadata": {
    "collapsed": false
   },
   "outputs": [
    {
     "data": {
      "text/html": [
       "<div>\n",
       "<table border=\"1\" class=\"dataframe\">\n",
       "  <thead>\n",
       "    <tr style=\"text-align: right;\">\n",
       "      <th></th>\n",
       "      <th>GNC</th>\n",
       "      <th>CNFGTR</th>\n",
       "      <th>Y98</th>\n",
       "    </tr>\n",
       "  </thead>\n",
       "  <tbody>\n",
       "    <tr>\n",
       "      <th>Mammals</th>\n",
       "      <td>0</td>\n",
       "      <td>1</td>\n",
       "      <td>10</td>\n",
       "    </tr>\n",
       "    <tr>\n",
       "      <th>Ants</th>\n",
       "      <td>0</td>\n",
       "      <td>0</td>\n",
       "      <td>0</td>\n",
       "    </tr>\n",
       "    <tr>\n",
       "      <th>Vertebrates</th>\n",
       "      <td>104</td>\n",
       "      <td>1281</td>\n",
       "      <td>1832</td>\n",
       "    </tr>\n",
       "  </tbody>\n",
       "</table>\n",
       "</div>"
      ],
      "text/plain": [
       "             GNC  CNFGTR   Y98\n",
       "Mammals        0       1    10\n",
       "Ants           0       0     0\n",
       "Vertebrates  104    1281  1832"
      ]
     },
     "execution_count": 25,
     "metadata": {},
     "output_type": "execute_result"
    }
   ],
   "source": [
    "rows = defaultdict(list)\n",
    "for label in labels[:-1]:\n",
    "    for col in cols:\n",
    "        rows[col].append(len(sat[label][col]))\n",
    "df = DataFrame(rows, index=labels[:-1], columns=['GNC', 'CNFGTR', 'Y98'])\n",
    "df"
   ]
  },
  {
   "cell_type": "code",
   "execution_count": 26,
   "metadata": {
    "collapsed": false
   },
   "outputs": [
    {
     "name": "stdout",
     "output_type": "stream",
     "text": [
      "\\begin{tabular}{lrrr}\n",
      "\\toprule\n",
      "{} &  GNC &  CNFGTR &   Y98 \\\\\n",
      "\\midrule\n",
      "Mammals     &    0 &       1 &    10 \\\\\n",
      "Ants        &    0 &       0 &     0 \\\\\n",
      "Vertebrates &  104 &    1281 &  1832 \\\\\n",
      "\\bottomrule\n",
      "\\end{tabular}\n",
      "\n"
     ]
    }
   ],
   "source": [
    "print df.to_latex()"
   ]
  },
  {
   "cell_type": "code",
   "execution_count": 27,
   "metadata": {
    "collapsed": false
   },
   "outputs": [
    {
     "data": {
      "text/html": [
       "<div>\n",
       "<table border=\"1\" class=\"dataframe\">\n",
       "  <thead>\n",
       "    <tr style=\"text-align: right;\">\n",
       "      <th></th>\n",
       "      <th>GNC</th>\n",
       "      <th>CNFGTR</th>\n",
       "      <th>Y98</th>\n",
       "    </tr>\n",
       "  </thead>\n",
       "  <tbody>\n",
       "    <tr>\n",
       "      <th>Mammals</th>\n",
       "      <td>4034</td>\n",
       "      <td>229</td>\n",
       "      <td>220</td>\n",
       "    </tr>\n",
       "    <tr>\n",
       "      <th>Ants</th>\n",
       "      <td>1909</td>\n",
       "      <td>65</td>\n",
       "      <td>60</td>\n",
       "    </tr>\n",
       "    <tr>\n",
       "      <th>Vertebrates</th>\n",
       "      <td>2859</td>\n",
       "      <td>29</td>\n",
       "      <td>31</td>\n",
       "    </tr>\n",
       "    <tr>\n",
       "      <th>Primate Introns</th>\n",
       "      <td>4391</td>\n",
       "      <td>301</td>\n",
       "      <td>288</td>\n",
       "    </tr>\n",
       "  </tbody>\n",
       "</table>\n",
       "</div>"
      ],
      "text/plain": [
       "                  GNC  CNFGTR  Y98\n",
       "Mammals          4034     229  220\n",
       "Ants             1909      65   60\n",
       "Vertebrates      2859      29   31\n",
       "Primate Introns  4391     301  288"
      ]
     },
     "execution_count": 27,
     "metadata": {},
     "output_type": "execute_result"
    }
   ],
   "source": [
    "rows = defaultdict(list)\n",
    "for label in labels:\n",
    "    for col in cols:\n",
    "        rows[col].append(len(hup[label][col]))\n",
    "df = DataFrame(rows, index=labels, columns=['GNC', 'CNFGTR', 'Y98'])\n",
    "df"
   ]
  },
  {
   "cell_type": "code",
   "execution_count": 28,
   "metadata": {
    "collapsed": false
   },
   "outputs": [
    {
     "name": "stdout",
     "output_type": "stream",
     "text": [
      "Mammals 4150\n",
      "Ants 2034\n",
      "Vertebrates 2907\n",
      "Primate Introns 13046\n"
     ]
    }
   ],
   "source": [
    "for dataset in datasets:\n",
    "    print ds_names[dataset], sum(d['aln'].count('>') == 3 for d in getattr(client, dataset).data.find())"
   ]
  },
  {
   "cell_type": "code",
   "execution_count": 29,
   "metadata": {
    "collapsed": false
   },
   "outputs": [
    {
     "data": {
      "text/plain": [
       "15"
      ]
     },
     "execution_count": 29,
     "metadata": {},
     "output_type": "execute_result"
    }
   ],
   "source": [
    "len(list(client.ants.Y98.log.find({'level':'WARNING'})))"
   ]
  },
  {
   "cell_type": "code",
   "execution_count": 30,
   "metadata": {
    "collapsed": false
   },
   "outputs": [
    {
     "data": {
      "text/plain": [
       "2019"
      ]
     },
     "execution_count": 30,
     "metadata": {},
     "output_type": "execute_result"
    }
   ],
   "source": [
    "2034-15"
   ]
  },
  {
   "cell_type": "code",
   "execution_count": null,
   "metadata": {
    "collapsed": true
   },
   "outputs": [],
   "source": []
  }
 ],
 "metadata": {
  "kernelspec": {
   "display_name": "Python 2",
   "language": "python",
   "name": "python2"
  },
  "language_info": {
   "codemirror_mode": {
    "name": "ipython",
    "version": 2
   },
   "file_extension": ".py",
   "mimetype": "text/x-python",
   "name": "python",
   "nbconvert_exporter": "python",
   "pygments_lexer": "ipython2",
   "version": "2.7.11"
  }
 },
 "nbformat": 4,
 "nbformat_minor": 0
}
