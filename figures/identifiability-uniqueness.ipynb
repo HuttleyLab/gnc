{
 "cells": [
  {
   "cell_type": "code",
   "execution_count": 1,
   "metadata": {
    "collapsed": false
   },
   "outputs": [],
   "source": [
    "from json import dumps\n",
    "\n",
    "from pymongo import MongoClient\n",
    "from IPython.display import Markdown, display, Image\n",
    "from scipy.linalg import expm\n",
    "from ipyparallel import Client, require"
   ]
  },
  {
   "cell_type": "code",
   "execution_count": 2,
   "metadata": {
    "collapsed": true
   },
   "outputs": [],
   "source": [
    "def print_logs(log,  level='INFO'):\n",
    "    printmd('##### ' + log.name)\n",
    "    for d in log.find({'level':level}):\n",
    "        printmd(dumps(d['message']))\n",
    "        \n",
    "def printmd(string):\n",
    "    ''' thanks http://stackoverflow.com/questions/32026727/format-output-of-code-cell-with-markdown '''\n",
    "    display(Markdown(string))"
   ]
  },
  {
   "cell_type": "code",
   "execution_count": 3,
   "metadata": {
    "collapsed": false
   },
   "outputs": [],
   "source": [
    "@require('numpy')\n",
    "def _is_Q_ok(Q):\n",
    "    \"\"\"Tests whether a square matrix is a valid transition rate matrix\"\"\"\n",
    "    n = Q.shape[0]\n",
    "    if not numpy.allclose(Q.imag, 0.):\n",
    "        return False\n",
    "    offd = Q * (1. - numpy.eye(n))\n",
    "    if not numpy.allclose(offd[offd<0.], 0.):\n",
    "        return False\n",
    "    one = numpy.ones(n)\n",
    "    if not numpy.allclose(Q.dot(one), 0.):\n",
    "        return False\n",
    "    return True\n",
    "\n",
    "@require('numpy', 'numpy.linalg')\n",
    "def is_generator_unique(Q):\n",
    "    \"\"\"Conservatively tests whether a transition rate matrix uniquely yields\n",
    "    its transition probability matrix\"\"\"\n",
    "    \n",
    "    assert _is_Q_ok(Q), 'Q must be a transition rate matrix'\n",
    "    \n",
    "    e, V = numpy.linalg.eig(Q)\n",
    "    invV = numpy.linalg.inv(V)\n",
    "    n = len(e)\n",
    "    \n",
    "    # Q must be diagonalisable\n",
    "    if not numpy.allclose(V.dot(numpy.diag(e)).dot(invV), Q):\n",
    "        return False\n",
    "        \n",
    "    # Find the conjugate pairs and make the problem smaller\n",
    "    pairs = set()\n",
    "    for i in range(n):\n",
    "        real_multiplicity = 1\n",
    "        for j in range(n):\n",
    "            if i == j:\n",
    "                continue\n",
    "                \n",
    "            # All eigenvalues must be unique\n",
    "            if numpy.isclose(e[i], e[j]):\n",
    "                return False\n",
    "            \n",
    "            if numpy.isclose(e[i].real, e[j].real):\n",
    "                real_multiplicity += 1\n",
    "                pairs.add(frozenset([i,j]))\n",
    "                \n",
    "        # Real parts can have multiplicity of at most two\n",
    "        if real_multiplicity > 2:\n",
    "            return False\n",
    "            \n",
    "    # Real distinct eigenvalues, all good\n",
    "    if len(pairs) == 0:\n",
    "        return True\n",
    "            \n",
    "    # Calculate equivalent Q basis\n",
    "    real_basis = []\n",
    "    imag_basis = []\n",
    "    ix = numpy.logical_not(numpy.eye(n, dtype=bool))\n",
    "    for i, j in pairs:\n",
    "        diff = numpy.outer(V[:,i], invV[i]) - numpy.outer(V[:,j], invV[j])\n",
    "        base = 2.*numpy.pi*complex(0.,1.)*diff\n",
    "        #newQ = Q + base\n",
    "        #assert not allclose(Q, newQ)\n",
    "        #assert allclose(expm(Q), expm(newQ))\n",
    "        base = numpy.matrix(base[ix]).T\n",
    "        real_basis.append(base.real)\n",
    "        imag_basis.append(base.imag)\n",
    "        \n",
    "    # Constraints Mk 1\n",
    "    # Q is real\n",
    "    A_eq = numpy.hstack(imag_basis)\n",
    "    b_eq = numpy.zeros(n*(n-1))\n",
    "    \n",
    "    # Q has no fewer zeros\n",
    "    mask = numpy.isclose(Q[ix], 0.)\n",
    "    \n",
    "    A_eq = numpy.vstack([A_eq, numpy.hstack(real_basis)[mask]])\n",
    "    b_eq = numpy.hstack([b_eq, numpy.zeros(mask.sum())])\n",
    "    \n",
    "    # A_eq * x == b_eq\n",
    "    \n",
    "    # assert allclose(A_eq.dot(zeros(len(pairs))), b_eq), 'wtf1'\n",
    "    \n",
    "    if numpy.allclose(A_eq, 0.):\n",
    "        return False\n",
    "    \n",
    "    return A_eq.shape[1] == numpy.linalg.matrix_rank(A_eq)\n",
    "    \n",
    "    \n",
    "#   # off-diagonal Q is non-negative\n",
    "#   A_ub = -hstack(real_basis)\n",
    "#   b_ub = Q[ix]\n",
    "#   \n",
    "#   # A_ub * x <= b_ub\n",
    "#   \n",
    "#   assert (A_ub.dot(zeros(len(pairs))) <= b_ub).all(), 'wtf2'\n",
    "#   \n",
    "#   A_eq = array(A_eq)\n",
    "#   A_ub = array(A_ub)\n",
    "\n",
    "#   dim = len(pairs)\n",
    "#   lower = zeros(dim)\n",
    "#   upper = zeros(dim)\n",
    "#   for j in range(dim):\n",
    "#       c = zeros(dim)\n",
    "#       c[j] = 1.\n",
    "#       result = linprog(c, A_ub, b_ub, A_eq, b_eq, bounds=[(-1, 1)]*dim, options=dict(tol=1e-9))\n",
    "#       print result\n",
    "#       if not result.success:\n",
    "#           return False\n",
    "#       lower[j] = result.fun\n",
    "#       c[j] = -1.\n",
    "#       result = linprog(c, A_ub, b_ub, A_eq, b_eq, bounds=[(-1, 1)]*dim, options=dict(tol=1e-9))\n",
    "#       print result\n",
    "#       if not result.success:\n",
    "#           return False\n",
    "#       upper[j] = result.fun\n",
    "#       \n",
    "#   return lower, upper\n",
    "\n",
    "def test_Qs(database):\n",
    "    @require('codon.nest', 'codon.ml', 'traceback')\n",
    "    def check_lf(doc):\n",
    "        try:\n",
    "            gc = codon.ml.get_genetic_code(doc['gc'])\n",
    "            model = lambda: codon.ml.GNC(gc=gc)\n",
    "            lf = codon.nest.inflate_likelihood_function(doc['lf'], model)\n",
    "            for tip in lf.tree.tips():\n",
    "                tip = tip.Name\n",
    "                Q = lf.getRateMatrixForEdge(tip).asarray()\n",
    "                t = lf.getParamValue('length', edge=tip)\n",
    "                if not is_generator_unique(Q*t):\n",
    "                    return doc['_id'], tip\n",
    "        except (KeyboardInterrupt, SystemExit):\n",
    "            raise\n",
    "        except:\n",
    "            return doc['_id'], traceback.format_exc()\n",
    "    \n",
    "    docs = list(database.GNC.find())\n",
    "    rc = Client()\n",
    "    rc[:].push(dict(is_generator_unique=is_generator_unique,\n",
    "                    _is_Q_ok=_is_Q_ok))\n",
    "    failures = rc[:].map_async(check_lf, docs)\n",
    "    return [f for f in failures if f is not None]"
   ]
  },
  {
   "cell_type": "code",
   "execution_count": 4,
   "metadata": {
    "collapsed": false
   },
   "outputs": [],
   "source": [
    "client = MongoClient()"
   ]
  },
  {
   "cell_type": "code",
   "execution_count": 5,
   "metadata": {
    "collapsed": false
   },
   "outputs": [
    {
     "data": {
      "text/markdown": [
       "#### Human/Xenopus/Fugu"
      ],
      "text/plain": [
       "<IPython.core.display.Markdown object>"
      ]
     },
     "metadata": {},
     "output_type": "display_data"
    },
    {
     "data": {
      "text/markdown": [
       "##### GNC.log"
      ],
      "text/plain": [
       "<IPython.core.display.Markdown object>"
      ]
     },
     "metadata": {},
     "output_type": "display_data"
    },
    {
     "data": {
      "text/markdown": [
       "{\"function\": \"ml.ml\", \"start_over\": true, \"log_level\": \"DEBUG\", \"no_mpi_main_loop\": false, \"kwargs_file\": \"../config/GNC.json\", \"input_collection\": \"hum_xen_fug.data\", \"output_collection\": \"hum_xen_fug.GNC\", \"output_collections_file\": null, \"output_collections\": [\"hum_xen_fug.GNC\"], \"db_host\": \"r2081\", \"input_collections_file\": null, \"kwargs\": {\"model\": \"GNC\"}, \"log_name\": \"log\", \"input_collections\": [\"hum_xen_fug.data\"]}"
      ],
      "text/plain": [
       "<IPython.core.display.Markdown object>"
      ]
     },
     "metadata": {},
     "output_type": "display_data"
    },
    {
     "data": {
      "text/markdown": [
       "{\"mong\": \"0.0.10-dev\", \"monglog\": \"0.0.1-dev\", \"map_collection\": \"0.0.8-dev\", \"masterslave\": \"0.0.10-dev\", \"ml\": \"0.0.11-dev\"}"
      ],
      "text/plain": [
       "<IPython.core.display.Markdown object>"
      ]
     },
     "metadata": {},
     "output_type": "display_data"
    },
    {
     "data": {
      "text/markdown": [
       "#### Mammals"
      ],
      "text/plain": [
       "<IPython.core.display.Markdown object>"
      ]
     },
     "metadata": {},
     "output_type": "display_data"
    },
    {
     "data": {
      "text/markdown": [
       "##### GNC.log"
      ],
      "text/plain": [
       "<IPython.core.display.Markdown object>"
      ]
     },
     "metadata": {},
     "output_type": "display_data"
    },
    {
     "data": {
      "text/markdown": [
       "{\"function\": \"ml.ml\", \"start_over\": true, \"log_level\": \"DEBUG\", \"no_mpi_main_loop\": false, \"kwargs_file\": \"../config/GNC.json\", \"input_collection\": \"mammals.data\", \"output_collection\": \"mammals.GNC\", \"output_collections_file\": null, \"output_collections\": [\"mammals.GNC\"], \"db_host\": \"r2081\", \"input_collections_file\": null, \"kwargs\": {\"model\": \"GNC\"}, \"log_name\": \"log\", \"input_collections\": [\"mammals.data\"]}"
      ],
      "text/plain": [
       "<IPython.core.display.Markdown object>"
      ]
     },
     "metadata": {},
     "output_type": "display_data"
    },
    {
     "data": {
      "text/markdown": [
       "{\"mong\": \"0.0.10-dev\", \"monglog\": \"0.0.1-dev\", \"map_collection\": \"0.0.8-dev\", \"masterslave\": \"0.0.10-dev\", \"ml\": \"0.0.11-dev\"}"
      ],
      "text/plain": [
       "<IPython.core.display.Markdown object>"
      ]
     },
     "metadata": {},
     "output_type": "display_data"
    },
    {
     "data": {
      "text/markdown": [
       "#### Ants"
      ],
      "text/plain": [
       "<IPython.core.display.Markdown object>"
      ]
     },
     "metadata": {},
     "output_type": "display_data"
    },
    {
     "data": {
      "text/markdown": [
       "##### GNC.log"
      ],
      "text/plain": [
       "<IPython.core.display.Markdown object>"
      ]
     },
     "metadata": {},
     "output_type": "display_data"
    },
    {
     "data": {
      "text/markdown": [
       "{\"function\": \"ml.ml\", \"start_over\": true, \"log_level\": \"DEBUG\", \"no_mpi_main_loop\": false, \"kwargs_file\": \"../config/GNC.json\", \"input_collection\": \"ants.data\", \"output_collection\": \"ants.GNC\", \"output_collections_file\": null, \"output_collections\": [\"ants.GNC\"], \"db_host\": \"r2081\", \"input_collections_file\": null, \"kwargs\": {\"model\": \"GNC\"}, \"log_name\": \"log\", \"input_collections\": [\"ants.data\"]}"
      ],
      "text/plain": [
       "<IPython.core.display.Markdown object>"
      ]
     },
     "metadata": {},
     "output_type": "display_data"
    },
    {
     "data": {
      "text/markdown": [
       "{\"mong\": \"0.0.10-dev\", \"monglog\": \"0.0.1-dev\", \"map_collection\": \"0.0.8-dev\", \"masterslave\": \"0.0.10-dev\", \"ml\": \"0.0.11-dev\"}"
      ],
      "text/plain": [
       "<IPython.core.display.Markdown object>"
      ]
     },
     "metadata": {},
     "output_type": "display_data"
    },
    {
     "data": {
      "text/markdown": [
       "#### Primate Introns"
      ],
      "text/plain": [
       "<IPython.core.display.Markdown object>"
      ]
     },
     "metadata": {},
     "output_type": "display_data"
    },
    {
     "data": {
      "text/markdown": [
       "##### GNC.log"
      ],
      "text/plain": [
       "<IPython.core.display.Markdown object>"
      ]
     },
     "metadata": {},
     "output_type": "display_data"
    },
    {
     "data": {
      "text/markdown": [
       "{\"function\": \"ml.ml\", \"start_over\": true, \"log_level\": \"DEBUG\", \"no_mpi_main_loop\": false, \"kwargs_file\": \"../config/GNC_no_stop.json\", \"input_collection\": \"introns.data\", \"output_collection\": \"introns.GNC\", \"output_collections_file\": null, \"output_collections\": [\"introns.GNC\"], \"db_host\": \"r2081\", \"input_collections_file\": null, \"kwargs\": {\"model\": \"GNC\", \"gc\": \"FFLLSSSSYYZOCCUWLLLLPPPPHHQQRRRRIIIMTTTTNNKKSSRRVVVVAAAADDEEGGGG\"}, \"log_name\": \"log\", \"input_collections\": [\"introns.data\"]}"
      ],
      "text/plain": [
       "<IPython.core.display.Markdown object>"
      ]
     },
     "metadata": {},
     "output_type": "display_data"
    },
    {
     "data": {
      "text/markdown": [
       "{\"mong\": \"0.0.10-dev\", \"monglog\": \"0.0.1-dev\", \"map_collection\": \"0.0.8-dev\", \"masterslave\": \"0.0.10-dev\", \"ml\": \"0.0.11-dev\"}"
      ],
      "text/plain": [
       "<IPython.core.display.Markdown object>"
      ]
     },
     "metadata": {},
     "output_type": "display_data"
    }
   ],
   "source": [
    "datasets = ['hum_xen_fug', 'mammals', 'ants', 'introns']\n",
    "ds_names = {'mammals' : 'Mammals',\n",
    "            'ants' : 'Ants',\n",
    "            'hum_xen_fug' : 'Human/Xenopus/Fugu',\n",
    "            'introns' : 'Primate Introns'}\n",
    "for dataset in datasets:\n",
    "    printmd('#### ' + ds_names[dataset])\n",
    "    print_logs(getattr(getattr(client, dataset), 'GNC.log'))"
   ]
  },
  {
   "cell_type": "code",
   "execution_count": 6,
   "metadata": {
    "collapsed": false
   },
   "outputs": [
    {
     "data": {
      "text/markdown": [
       "##### Done hum_xen_fug"
      ],
      "text/plain": [
       "<IPython.core.display.Markdown object>"
      ]
     },
     "metadata": {},
     "output_type": "display_data"
    },
    {
     "data": {
      "text/markdown": [
       "##### Done mammals"
      ],
      "text/plain": [
       "<IPython.core.display.Markdown object>"
      ]
     },
     "metadata": {},
     "output_type": "display_data"
    },
    {
     "data": {
      "text/markdown": [
       "##### Done ants"
      ],
      "text/plain": [
       "<IPython.core.display.Markdown object>"
      ]
     },
     "metadata": {},
     "output_type": "display_data"
    },
    {
     "data": {
      "text/markdown": [
       "##### Done introns"
      ],
      "text/plain": [
       "<IPython.core.display.Markdown object>"
      ]
     },
     "metadata": {},
     "output_type": "display_data"
    }
   ],
   "source": [
    "failures = {}\n",
    "for dataset in datasets:\n",
    "    failures[dataset] = test_Qs(getattr(client, dataset))\n",
    "    printmd('##### Done ' + dataset)"
   ]
  },
  {
   "cell_type": "code",
   "execution_count": 7,
   "metadata": {
    "collapsed": false
   },
   "outputs": [
    {
     "name": "stdout",
     "output_type": "stream",
     "text": [
      "introns 2139\n",
      "mammals 95\n",
      "hum_xen_fug 27\n",
      "ants 11\n"
     ]
    }
   ],
   "source": [
    "for dataset in failures:\n",
    "    print dataset, len(failures[dataset])"
   ]
  },
  {
   "cell_type": "code",
   "execution_count": 8,
   "metadata": {
    "collapsed": false
   },
   "outputs": [],
   "source": [
    "import json\n",
    "with open('uniqueness-failures.json', 'w') as uout:\n",
    "    json.dump(failures, uout)"
   ]
  },
  {
   "cell_type": "code",
   "execution_count": null,
   "metadata": {
    "collapsed": true
   },
   "outputs": [],
   "source": []
  }
 ],
 "metadata": {
  "kernelspec": {
   "display_name": "Python 2",
   "language": "python",
   "name": "python2"
  },
  "language_info": {
   "codemirror_mode": {
    "name": "ipython",
    "version": 2
   },
   "file_extension": ".py",
   "mimetype": "text/x-python",
   "name": "python",
   "nbconvert_exporter": "python",
   "pygments_lexer": "ipython2",
   "version": "2.7.11"
  }
 },
 "nbformat": 4,
 "nbformat_minor": 0
}
