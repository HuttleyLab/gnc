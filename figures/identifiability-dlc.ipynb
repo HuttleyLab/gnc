{
 "cells": [
  {
   "cell_type": "code",
   "execution_count": 1,
   "metadata": {
    "collapsed": false
   },
   "outputs": [],
   "source": [
    "import json\n",
    "\n",
    "from pymongo import MongoClient\n",
    "from IPython.display import Markdown, display, Image"
   ]
  },
  {
   "cell_type": "code",
   "execution_count": 2,
   "metadata": {
    "collapsed": true
   },
   "outputs": [],
   "source": [
    "def print_logs(log,  level='INFO'):\n",
    "    printmd('##### ' + log.name)\n",
    "    for d in log.find({'level':level}):\n",
    "        printmd(json.dumps(d['message']))\n",
    "        \n",
    "def printmd(string):\n",
    "    ''' thanks http://stackoverflow.com/questions/32026727/format-output-of-code-cell-with-markdown '''\n",
    "    display(Markdown(string))"
   ]
  },
  {
   "cell_type": "code",
   "execution_count": 3,
   "metadata": {
    "collapsed": false
   },
   "outputs": [],
   "source": [
    "def test_DLC(database):\n",
    "    docs = list(database.GNC.find())\n",
    "    return [d['_id'] for d in docs if not d['lf']['strong_DLC']]"
   ]
  },
  {
   "cell_type": "code",
   "execution_count": 4,
   "metadata": {
    "collapsed": false
   },
   "outputs": [],
   "source": [
    "client = MongoClient()"
   ]
  },
  {
   "cell_type": "code",
   "execution_count": 5,
   "metadata": {
    "collapsed": false
   },
   "outputs": [
    {
     "data": {
      "text/markdown": [
       "#### Human/Xenopus/Fugu"
      ],
      "text/plain": [
       "<IPython.core.display.Markdown object>"
      ]
     },
     "metadata": {},
     "output_type": "display_data"
    },
    {
     "data": {
      "text/markdown": [
       "##### GNC.log"
      ],
      "text/plain": [
       "<IPython.core.display.Markdown object>"
      ]
     },
     "metadata": {},
     "output_type": "display_data"
    },
    {
     "data": {
      "text/markdown": [
       "{\"function\": \"ml.ml\", \"start_over\": true, \"log_level\": \"DEBUG\", \"no_mpi_main_loop\": false, \"kwargs_file\": \"../config/GNC.json\", \"input_collection\": \"hum_xen_fug.data\", \"output_collection\": \"hum_xen_fug.GNC\", \"output_collections_file\": null, \"output_collections\": [\"hum_xen_fug.GNC\"], \"db_host\": \"r2081\", \"input_collections_file\": null, \"kwargs\": {\"model\": \"GNC\"}, \"log_name\": \"log\", \"input_collections\": [\"hum_xen_fug.data\"]}"
      ],
      "text/plain": [
       "<IPython.core.display.Markdown object>"
      ]
     },
     "metadata": {},
     "output_type": "display_data"
    },
    {
     "data": {
      "text/markdown": [
       "{\"mong\": \"0.0.10-dev\", \"monglog\": \"0.0.1-dev\", \"map_collection\": \"0.0.8-dev\", \"masterslave\": \"0.0.10-dev\", \"ml\": \"0.0.11-dev\"}"
      ],
      "text/plain": [
       "<IPython.core.display.Markdown object>"
      ]
     },
     "metadata": {},
     "output_type": "display_data"
    },
    {
     "data": {
      "text/markdown": [
       "#### Mammals"
      ],
      "text/plain": [
       "<IPython.core.display.Markdown object>"
      ]
     },
     "metadata": {},
     "output_type": "display_data"
    },
    {
     "data": {
      "text/markdown": [
       "##### GNC.log"
      ],
      "text/plain": [
       "<IPython.core.display.Markdown object>"
      ]
     },
     "metadata": {},
     "output_type": "display_data"
    },
    {
     "data": {
      "text/markdown": [
       "{\"function\": \"ml.ml\", \"start_over\": true, \"log_level\": \"DEBUG\", \"no_mpi_main_loop\": false, \"kwargs_file\": \"../config/GNC.json\", \"input_collection\": \"mammals.data\", \"output_collection\": \"mammals.GNC\", \"output_collections_file\": null, \"output_collections\": [\"mammals.GNC\"], \"db_host\": \"r2081\", \"input_collections_file\": null, \"kwargs\": {\"model\": \"GNC\"}, \"log_name\": \"log\", \"input_collections\": [\"mammals.data\"]}"
      ],
      "text/plain": [
       "<IPython.core.display.Markdown object>"
      ]
     },
     "metadata": {},
     "output_type": "display_data"
    },
    {
     "data": {
      "text/markdown": [
       "{\"mong\": \"0.0.10-dev\", \"monglog\": \"0.0.1-dev\", \"map_collection\": \"0.0.8-dev\", \"masterslave\": \"0.0.10-dev\", \"ml\": \"0.0.11-dev\"}"
      ],
      "text/plain": [
       "<IPython.core.display.Markdown object>"
      ]
     },
     "metadata": {},
     "output_type": "display_data"
    },
    {
     "data": {
      "text/markdown": [
       "#### Ants"
      ],
      "text/plain": [
       "<IPython.core.display.Markdown object>"
      ]
     },
     "metadata": {},
     "output_type": "display_data"
    },
    {
     "data": {
      "text/markdown": [
       "##### GNC.log"
      ],
      "text/plain": [
       "<IPython.core.display.Markdown object>"
      ]
     },
     "metadata": {},
     "output_type": "display_data"
    },
    {
     "data": {
      "text/markdown": [
       "{\"function\": \"ml.ml\", \"start_over\": true, \"log_level\": \"DEBUG\", \"no_mpi_main_loop\": false, \"kwargs_file\": \"../config/GNC.json\", \"input_collection\": \"ants.data\", \"output_collection\": \"ants.GNC\", \"output_collections_file\": null, \"output_collections\": [\"ants.GNC\"], \"db_host\": \"r2081\", \"input_collections_file\": null, \"kwargs\": {\"model\": \"GNC\"}, \"log_name\": \"log\", \"input_collections\": [\"ants.data\"]}"
      ],
      "text/plain": [
       "<IPython.core.display.Markdown object>"
      ]
     },
     "metadata": {},
     "output_type": "display_data"
    },
    {
     "data": {
      "text/markdown": [
       "{\"mong\": \"0.0.10-dev\", \"monglog\": \"0.0.1-dev\", \"map_collection\": \"0.0.8-dev\", \"masterslave\": \"0.0.10-dev\", \"ml\": \"0.0.11-dev\"}"
      ],
      "text/plain": [
       "<IPython.core.display.Markdown object>"
      ]
     },
     "metadata": {},
     "output_type": "display_data"
    },
    {
     "data": {
      "text/markdown": [
       "#### Primate Introns"
      ],
      "text/plain": [
       "<IPython.core.display.Markdown object>"
      ]
     },
     "metadata": {},
     "output_type": "display_data"
    },
    {
     "data": {
      "text/markdown": [
       "##### GNC.log"
      ],
      "text/plain": [
       "<IPython.core.display.Markdown object>"
      ]
     },
     "metadata": {},
     "output_type": "display_data"
    },
    {
     "data": {
      "text/markdown": [
       "{\"function\": \"ml.ml\", \"start_over\": true, \"log_level\": \"DEBUG\", \"no_mpi_main_loop\": false, \"kwargs_file\": \"../config/GNC_no_stop.json\", \"input_collection\": \"introns.data\", \"output_collection\": \"introns.GNC\", \"output_collections_file\": null, \"output_collections\": [\"introns.GNC\"], \"db_host\": \"r2081\", \"input_collections_file\": null, \"kwargs\": {\"model\": \"GNC\", \"gc\": \"FFLLSSSSYYZOCCUWLLLLPPPPHHQQRRRRIIIMTTTTNNKKSSRRVVVVAAAADDEEGGGG\"}, \"log_name\": \"log\", \"input_collections\": [\"introns.data\"]}"
      ],
      "text/plain": [
       "<IPython.core.display.Markdown object>"
      ]
     },
     "metadata": {},
     "output_type": "display_data"
    },
    {
     "data": {
      "text/markdown": [
       "{\"mong\": \"0.0.10-dev\", \"monglog\": \"0.0.1-dev\", \"map_collection\": \"0.0.8-dev\", \"masterslave\": \"0.0.10-dev\", \"ml\": \"0.0.11-dev\"}"
      ],
      "text/plain": [
       "<IPython.core.display.Markdown object>"
      ]
     },
     "metadata": {},
     "output_type": "display_data"
    }
   ],
   "source": [
    "datasets = ['hum_xen_fug', 'mammals', 'ants', 'introns']\n",
    "ds_names = {'mammals' : 'Mammals',\n",
    "            'ants' : 'Ants',\n",
    "            'hum_xen_fug' : 'Human/Xenopus/Fugu',\n",
    "            'introns' : 'Primate Introns'}\n",
    "for dataset in datasets:\n",
    "    printmd('#### ' + ds_names[dataset])\n",
    "    print_logs(getattr(getattr(client, dataset), 'GNC.log'))"
   ]
  },
  {
   "cell_type": "code",
   "execution_count": 6,
   "metadata": {
    "collapsed": false
   },
   "outputs": [
    {
     "data": {
      "text/markdown": [
       "##### Done hum_xen_fug"
      ],
      "text/plain": [
       "<IPython.core.display.Markdown object>"
      ]
     },
     "metadata": {},
     "output_type": "display_data"
    },
    {
     "data": {
      "text/markdown": [
       "##### Done mammals"
      ],
      "text/plain": [
       "<IPython.core.display.Markdown object>"
      ]
     },
     "metadata": {},
     "output_type": "display_data"
    },
    {
     "data": {
      "text/markdown": [
       "##### Done ants"
      ],
      "text/plain": [
       "<IPython.core.display.Markdown object>"
      ]
     },
     "metadata": {},
     "output_type": "display_data"
    },
    {
     "data": {
      "text/markdown": [
       "##### Done introns"
      ],
      "text/plain": [
       "<IPython.core.display.Markdown object>"
      ]
     },
     "metadata": {},
     "output_type": "display_data"
    }
   ],
   "source": [
    "dlc_failures = {}\n",
    "for dataset in datasets:\n",
    "    dlc_failures[dataset] = test_DLC(getattr(client, dataset))\n",
    "    printmd('##### Done ' + dataset)"
   ]
  },
  {
   "cell_type": "code",
   "execution_count": 7,
   "metadata": {
    "collapsed": false
   },
   "outputs": [
    {
     "name": "stdout",
     "output_type": "stream",
     "text": [
      "introns 0\n",
      "mammals 17\n",
      "hum_xen_fug 879\n",
      "ants 1\n"
     ]
    }
   ],
   "source": [
    "for dataset in dlc_failures:\n",
    "    print dataset, len(dlc_failures[dataset])"
   ]
  },
  {
   "cell_type": "code",
   "execution_count": 8,
   "metadata": {
    "collapsed": true
   },
   "outputs": [],
   "source": [
    "with open('dlc-failures.json', 'w') as dout:\n",
    "    json.dump(dlc_failures, dout)"
   ]
  },
  {
   "cell_type": "code",
   "execution_count": null,
   "metadata": {
    "collapsed": true
   },
   "outputs": [],
   "source": []
  }
 ],
 "metadata": {
  "kernelspec": {
   "display_name": "Python 2",
   "language": "python",
   "name": "python2"
  },
  "language_info": {
   "codemirror_mode": {
    "name": "ipython",
    "version": 2
   },
   "file_extension": ".py",
   "mimetype": "text/x-python",
   "name": "python",
   "nbconvert_exporter": "python",
   "pygments_lexer": "ipython2",
   "version": "2.7.11"
  }
 },
 "nbformat": 4,
 "nbformat_minor": 0
}
