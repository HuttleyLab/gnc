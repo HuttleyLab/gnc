{
 "cells": [
  {
   "cell_type": "markdown",
   "metadata": {},
   "source": [
    "# Extract Sequences\n",
    "Find the sequences that we have stored in mongodbs and store them in files ready for upload to Dryad."
   ]
  },
  {
   "cell_type": "code",
   "execution_count": 1,
   "metadata": {
    "collapsed": true
   },
   "outputs": [],
   "source": [
    "import os\n",
    "import shutil\n",
    "\n",
    "from pymongo import MongoClient"
   ]
  },
  {
   "cell_type": "code",
   "execution_count": 2,
   "metadata": {
    "collapsed": true
   },
   "outputs": [],
   "source": [
    "client = MongoClient()\n",
    "collections = {'ants' : client.ants.data,\n",
    "              'mammals' : client.mammals.data,\n",
    "              'vertebrates' : client.hum_xen_fug.data,\n",
    "              'introns' : client.introns.data}"
   ]
  },
  {
   "cell_type": "code",
   "execution_count": 3,
   "metadata": {
    "collapsed": false
   },
   "outputs": [],
   "source": [
    "for colname in collections:\n",
    "    dirname = '../data/'+colname\n",
    "    os.makedirs(dirname)\n",
    "    for data in collections[colname].find():\n",
    "        if len(data['aln'].split('>')) != 4:\n",
    "            continue\n",
    "        filename = dirname + '/' + data['_id'].rsplit('_',1)[0] + '.fa'\n",
    "        with open(filename, 'w') as output:\n",
    "            output.write(data['aln'])\n",
    "    !tar czf $dirname\".tar.gz\" $dirname"
   ]
  },
  {
   "cell_type": "code",
   "execution_count": 4,
   "metadata": {
    "collapsed": true
   },
   "outputs": [],
   "source": [
    "for colname in collections:\n",
    "    dirname = '../data/'+colname\n",
    "    shutil.rmtree(dirname)"
   ]
  },
  {
   "cell_type": "code",
   "execution_count": null,
   "metadata": {
    "collapsed": true
   },
   "outputs": [],
   "source": []
  }
 ],
 "metadata": {
  "kernelspec": {
   "display_name": "Python 2",
   "language": "python",
   "name": "python2"
  },
  "language_info": {
   "codemirror_mode": {
    "name": "ipython",
    "version": 2
   },
   "file_extension": ".py",
   "mimetype": "text/x-python",
   "name": "python",
   "nbconvert_exporter": "python",
   "pygments_lexer": "ipython2",
   "version": "2.7.11"
  }
 },
 "nbformat": 4,
 "nbformat_minor": 0
}
