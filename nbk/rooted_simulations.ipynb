{
 "cells": [
  {
   "cell_type": "markdown",
   "metadata": {},
   "source": [
    "## Fit Rooted GNC to Randomly Sampled Alignments\n",
    "Load some libraries"
   ]
  },
  {
   "cell_type": "code",
   "execution_count": 20,
   "metadata": {
    "collapsed": false
   },
   "outputs": [],
   "source": [
    "from __future__ import division\n",
    "\n",
    "import numpy\n",
    "from pymongo import MongoClient\n",
    "from cogent import LoadTree, LoadSeqs\n",
    "from cogent.maths.stats import chisqprob\n",
    "\n",
    "import lib\n",
    "import ml\n",
    "import nest"
   ]
  },
  {
   "cell_type": "markdown",
   "metadata": {},
   "source": [
    "Define the model fitters"
   ]
  },
  {
   "cell_type": "code",
   "execution_count": 27,
   "metadata": {
    "collapsed": true
   },
   "outputs": [],
   "source": [
    "def fit_one(aln, tree, rooted_edges):\n",
    "    sp_kw = dict(upper=20., lower=0.05, is_independent=False)\n",
    "    sm = ml.MG94GTR(optimise_motif_probs=True)\n",
    "    init_lf = sm.makeLikelihoodFunction(tree)\n",
    "    init_lf.setAlignment(aln)\n",
    "    with init_lf.updatesPostponed():\n",
    "        for param in init_lf.getParamNames():\n",
    "            if '/' in param:\n",
    "                init_lf.setParamRule(param, **sp_kw)\n",
    "    init_lf.setParamRule('length', edges=rooted_edges, is_independent=False)\n",
    "    init_lf.optimise(local=True, show_progress=False, limit_action='raise')\n",
    "    init_lf = nest.deflate_likelihood_function(init_lf, save_jsd=False)\n",
    "    sm = ml.GNC(optimise_motif_probs=True)\n",
    "    lf = sm.makeLikelihoodFunction(tree)\n",
    "    lf.setAlignment(aln)\n",
    "    ml._populate_parameters(lf, init_lf, **sp_kw)\n",
    "    for param in lf.getParamNames():\n",
    "        if '>' in param or param == 'omega':\n",
    "            lf.setParamRule(param, edges=rooted_edges, is_independent=False)\n",
    "    lf.optimise(local=True, show_progress=False, limit_action='raise')\n",
    "    return nest.deflate_likelihood_function(lf, save_jsd=False)\n",
    "\n",
    "def fit_n(output, data, n, treestring, rooted_edges):\n",
    "    ids = [d['_id'] for d in data.find({},{'_id':True})]\n",
    "    ids = numpy.random.choice(ids, n, replace=False).tolist()\n",
    "    tree = LoadTree(treestring=treestring)\n",
    "    for doc in data.find({'_id' : {'$in' : ids}}):\n",
    "        aln = LoadSeqs(data=doc['aln'].encode('utf-8'), moltype=ml.DNA)\n",
    "        aln = aln.withoutTerminalStopCodons(ml.get_genetic_code(None))\n",
    "        aln = aln.filtered(lambda x: set(''.join(x))<=set(ml.DNA), motif_length=3)\n",
    "        flat_lf = fit_one(aln, tree, rooted_edges)\n",
    "        output.insert_one({'_id':doc['_id'], 'lf':flat_lf})\n",
    "        \n",
    "def lrt(rooted, unrooted):\n",
    "    null_lnL = unrooted['lf']['ll']\n",
    "    null_nfp = unrooted['lf']['df']\n",
    "    alt_lnL = rooted['lf']['ll']\n",
    "    alt_nfp = rooted['lf']['df']\n",
    "    LR = 2 * (alt_lnL - null_lnL) # the likelihood ratio statistic\n",
    "    LR = max(LR, 0.)\n",
    "    df = (alt_nfp - null_nfp) # the test degrees of freedom\n",
    "    return chisqprob(LR, df)"
   ]
  },
  {
   "cell_type": "markdown",
   "metadata": {},
   "source": [
    "Connect to the database"
   ]
  },
  {
   "cell_type": "code",
   "execution_count": 18,
   "metadata": {
    "collapsed": true
   },
   "outputs": [],
   "source": [
    "client = MongoClient()"
   ]
  },
  {
   "cell_type": "markdown",
   "metadata": {},
   "source": [
    "Ants first"
   ]
  },
  {
   "cell_type": "code",
   "execution_count": 19,
   "metadata": {
    "collapsed": false
   },
   "outputs": [
    {
     "name": "stderr",
     "output_type": "stream",
     "text": [
      "/Users/ben/.virtualenvs/normal/lib/python2.7/site-packages/cogent/maths/scipy_optimisers.py:86: UserWarning: Unexpected warning from scipy 1\n",
      "  warnings.warn('Unexpected warning from scipy %s' % warnflag)\n",
      "/Users/ben/.virtualenvs/normal/lib/python2.7/site-packages/ipykernel/__main__.py:32: DeprecationWarning: insert is deprecated. Use insert_one or insert_many instead.\n"
     ]
    }
   ],
   "source": [
    "treestring = '(Hsal_3_3,(Cflo_3_3,Lhum_1_0)internal);'\n",
    "rooted_edges = ['Hsal_3_3', 'internal']\n",
    "fit_n(client.ants.GNC_rooted, client.ants.data, 10, treestring, rooted_edges)"
   ]
  },
  {
   "cell_type": "markdown",
   "metadata": {},
   "source": [
    "Do some LRTs"
   ]
  },
  {
   "cell_type": "code",
   "execution_count": 26,
   "metadata": {
    "collapsed": false
   },
   "outputs": [
    {
     "name": "stdout",
     "output_type": "stream",
     "text": [
      "0.218130812783 1\n",
      "0.0774824906615 0.073481277987\n",
      "4.70411219134e-12 0.473152467128\n",
      "0.0191533204928 0.674512874478\n",
      "1.08826187972e-11 1\n",
      "1.12044233366e-09 1\n",
      "0.191255641714 0.00363635449812\n",
      "0.260516945508 0.000152926348527\n",
      "1.82488001191e-13 1\n",
      "0.165872608846 1\n"
     ]
    }
   ],
   "source": [
    "for rooted in client.ants.GNC_rooted.find():\n",
    "    unrooted = client.ants.GNC.find_one({'_id' : rooted['_id']})\n",
    "    print rooted['lf']['EN']['internal'], lrt(rooted, unrooted) "
   ]
  },
  {
   "cell_type": "code",
   "execution_count": 32,
   "metadata": {
    "collapsed": true
   },
   "outputs": [],
   "source": [
    "treestring = '(Cflo_3_3,(Hsal_3_3,Lhum_1_0)internal);'\n",
    "rooted_edges = ['Cflo_3_3', 'internal']\n",
    "fit_n(client.ants.GNC_rooted_on_cflo, client.ants.data, 10, treestring, rooted_edges)"
   ]
  },
  {
   "cell_type": "code",
   "execution_count": 33,
   "metadata": {
    "collapsed": false
   },
   "outputs": [
    {
     "name": "stdout",
     "output_type": "stream",
     "text": [
      "3.66314717141e-12 1\n",
      "0.0654302168538 0.197226518041\n",
      "0.166271402869 0.00415652200066\n",
      "7.52701676199e-12 1\n",
      "0.211292695681 1\n",
      "0.0186063027579 1\n",
      "0.0578547279989 0.0904571384649\n",
      "6.75195028797e-12 1\n",
      "0.2068137563 2.36807779418e-06\n",
      "0.00101765090912 0.924642100873\n"
     ]
    }
   ],
   "source": [
    "for rooted in client.ants.GNC_rooted_on_cflo.find():\n",
    "    unrooted = client.ants.GNC.find_one({'_id' : rooted['_id']})\n",
    "    print rooted['lf']['EN']['internal'], lrt(rooted, unrooted) "
   ]
  },
  {
   "cell_type": "code",
   "execution_count": 34,
   "metadata": {
    "collapsed": true
   },
   "outputs": [],
   "source": [
    "treestring = '(Lhum_1_0,(Hsal_3_3,Cflo_3_3)internal);'\n",
    "rooted_edges = ['Lhum_1_0', 'internal']\n",
    "fit_n(client.ants.GNC_rooted_on_lhum, client.ants.data, 10, treestring, rooted_edges)"
   ]
  },
  {
   "cell_type": "code",
   "execution_count": 35,
   "metadata": {
    "collapsed": false
   },
   "outputs": [
    {
     "name": "stdout",
     "output_type": "stream",
     "text": [
      "0.0659998537439 0.0921104735199\n",
      "0.182372871175 0.000184505081369\n",
      "8.9061537885e-12 0.99590355365\n",
      "0.0836769783917 0.285347543077\n",
      "1.71480205492e-12 1\n",
      "0.016742992236 0.419702710271\n",
      "0.111957157955 1\n",
      "5.52207712526e-12 1\n",
      "0.0913902837079 0.184098291937\n",
      "0.20362292773 1.08165134747e-05\n"
     ]
    }
   ],
   "source": [
    "for rooted in client.ants.GNC_rooted_on_lhum.find():\n",
    "    unrooted = client.ants.GNC.find_one({'_id' : rooted['_id']})\n",
    "    print rooted['lf']['EN']['internal'], lrt(rooted, unrooted) "
   ]
  },
  {
   "cell_type": "markdown",
   "metadata": {},
   "source": [
    "Mammals second"
   ]
  },
  {
   "cell_type": "code",
   "execution_count": 30,
   "metadata": {
    "collapsed": false
   },
   "outputs": [],
   "source": [
    "treestring = '(Opossum,(Human,Mouse)internal);'\n",
    "rooted_edges = ['Opossum', 'internal']\n",
    "fit_n(client.mammals.GNC_rooted, client.mammals.data, 10, treestring, rooted_edges)"
   ]
  },
  {
   "cell_type": "code",
   "execution_count": 36,
   "metadata": {
    "collapsed": false
   },
   "outputs": [
    {
     "name": "stdout",
     "output_type": "stream",
     "text": [
      "ENSG00000090924_mammals 0.228314880016 0.00180756361448\n",
      "ENSG00000074276_mammals 0.150420976176 6.43570447639e-07\n",
      "ENSG00000074621_mammals 0.082408159895 0.272779453783\n",
      "ENSG00000077147_mammals 9.03184467837e-12 1\n",
      "ENSG00000100426_mammals 0.201219244447 0.00199047375544\n",
      "ENSG00000111641_mammals 0.0978675551755 0.0244891970521\n",
      "ENSG00000138658_mammals 0.136963970999 0.00392545984241\n",
      "ENSG00000161647_mammals 0.102204360148 0.0153267921655\n",
      "ENSG00000164867_mammals 0.0941493247698 3.10822334983e-05\n",
      "ENSG00000165813_mammals 0.224333961111 8.43477196665e-05\n",
      "ENSG00000240303_mammals 0.384159359721 4.60150475952e-06\n"
     ]
    }
   ],
   "source": [
    "for rooted in client.mammals.GNC_rooted.find():\n",
    "    unrooted = client.mammals.GNC.find_one({'_id' : rooted['_id']})\n",
    "    print rooted['_id'], rooted['lf']['EN']['internal'], lrt(rooted, unrooted) "
   ]
  },
  {
   "cell_type": "code",
   "execution_count": 38,
   "metadata": {
    "collapsed": false
   },
   "outputs": [
    {
     "name": "stderr",
     "output_type": "stream",
     "text": [
      "/Users/ben/.virtualenvs/normal/lib/python2.7/site-packages/cogent/evolve/parameter_controller.py:264: UserWarning: Used mean of 5 mprobs values\n",
      "  is_independent)\n",
      "/Users/ben/.virtualenvs/normal/lib/python2.7/site-packages/ipykernel/__main__.py:10: DeprecationWarning: insert is deprecated. Use insert_one or insert_many instead.\n"
     ]
    }
   ],
   "source": [
    "sims_per_aln = 100\n",
    "for doc in client.mammals.GNC_rooted.find():\n",
    "    model = lambda: ml.GNC(optimise_motif_probs=True)\n",
    "    lf = nest.inflate_likelihood_function(doc['lf'], model=model)\n",
    "    tree = doc['lf']['tree']\n",
    "    for i in range(sims_per_aln):\n",
    "        aln = lf.simulateAlignment(sequence_length=doc['lf']['aln_length'])\n",
    "        aln = aln.__str__()\n",
    "        _id = doc['_id'] + '_' + str(i)\n",
    "        client.mammals.GNC_rooted_sims.insert_one({'_id' : _id, 'aln': aln, 'tree' : tree})"
   ]
  },
  {
   "cell_type": "code",
   "execution_count": null,
   "metadata": {
    "collapsed": true
   },
   "outputs": [],
   "source": []
  }
 ],
 "metadata": {
  "kernelspec": {
   "display_name": "Python 2",
   "language": "python",
   "name": "python2"
  },
  "language_info": {
   "codemirror_mode": {
    "name": "ipython",
    "version": 2
   },
   "file_extension": ".py",
   "mimetype": "text/x-python",
   "name": "python",
   "nbconvert_exporter": "python",
   "pygments_lexer": "ipython2",
   "version": "2.7.11"
  }
 },
 "nbformat": 4,
 "nbformat_minor": 0
}
